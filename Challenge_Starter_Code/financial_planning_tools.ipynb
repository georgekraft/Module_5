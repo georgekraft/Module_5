{
 "cells": [
  {
   "cell_type": "markdown",
   "metadata": {},
   "source": [
    "# Financial Planning with APIs and Simulations\n",
    "\n",
    "In this Challenge, you’ll create two financial analysis tools by using a single Jupyter notebook:\n",
    "\n",
    "Part 1: A financial planner for emergencies. The members will be able to use this tool to visualize their current savings. The members can then determine if they have enough reserves for an emergency fund.\n",
    "\n",
    "Part 2: A financial planner for retirement. This tool will forecast the performance of their retirement portfolio in 30 years. To do this, the tool will make an Alpaca API call via the Alpaca SDK to get historical price data for use in Monte Carlo simulations.\n",
    "\n",
    "You’ll use the information from the Monte Carlo simulation to answer questions about the portfolio in your Jupyter notebook.\n",
    "\n"
   ]
  },
  {
   "cell_type": "code",
   "execution_count": 1,
   "metadata": {},
   "outputs": [],
   "source": [
    "# Import the required libraries and dependencies\n",
    "import os\n",
    "import requests\n",
    "import json\n",
    "import pandas as pd\n",
    "from dotenv import load_dotenv\n",
    "import alpaca_trade_api as tradeapi\n",
    "from MCForecastTools import MCSimulation\n",
    "\n",
    "%matplotlib inline"
   ]
  },
  {
   "cell_type": "code",
   "execution_count": 2,
   "metadata": {},
   "outputs": [
    {
     "data": {
      "text/plain": [
       "True"
      ]
     },
     "execution_count": 2,
     "metadata": {},
     "output_type": "execute_result"
    }
   ],
   "source": [
    "# Load the environment variables from the .env file\n",
    "#by calling the load_dotenv function\n",
    "load_dotenv()"
   ]
  },
  {
   "cell_type": "markdown",
   "metadata": {},
   "source": [
    "## Part 1: Create a Financial Planner for Emergencies"
   ]
  },
  {
   "cell_type": "markdown",
   "metadata": {},
   "source": [
    "### Evaluate the Cryptocurrency Wallet by Using the Requests Library\n",
    "\n",
    "In this section, you’ll determine the current value of a member’s cryptocurrency wallet. You’ll collect the current prices for the Bitcoin and Ethereum cryptocurrencies by using the Python Requests library. For the prototype, you’ll assume that the member holds the 1.2 Bitcoins (BTC) and 5.3 Ethereum coins (ETH). To do all this, complete the following steps:\n",
    "\n",
    "1. Create a variable named `monthly_income`, and set its value to `12000`.\n",
    "\n",
    "2. Use the Requests library to get the current price (in US dollars) of Bitcoin (BTC) and Ethereum (ETH) by using the API endpoints that the starter code supplies.\n",
    "\n",
    "3. Navigate the JSON response object to access the current price of each coin, and store each in a variable.\n",
    "\n",
    "    > **Hint** Note the specific identifier for each cryptocurrency in the API JSON response. The Bitcoin identifier is `1`, and the Ethereum identifier is `1027`.\n",
    "\n",
    "4. Calculate the value, in US dollars, of the current amount of each cryptocurrency and of the entire cryptocurrency wallet.\n",
    "\n"
   ]
  },
  {
   "cell_type": "code",
   "execution_count": 7,
   "metadata": {},
   "outputs": [],
   "source": [
    "# The current number of coins for each cryptocurrency asset held in the portfolio.\n",
    "btc_coins = 1.2\n",
    "eth_coins = 5.3"
   ]
  },
  {
   "cell_type": "markdown",
   "metadata": {},
   "source": [
    "#### Step 1: Create a variable named `monthly_income`, and set its value to `12000`."
   ]
  },
  {
   "cell_type": "code",
   "execution_count": 8,
   "metadata": {},
   "outputs": [],
   "source": [
    "# The monthly amount for the member's household income\n",
    "monthly_income = 12000\n"
   ]
  },
  {
   "cell_type": "markdown",
   "metadata": {},
   "source": [
    "#### Review the endpoint URLs for the API calls to Free Crypto API in order to get the current pricing information for both BTC and ETH."
   ]
  },
  {
   "cell_type": "code",
   "execution_count": 9,
   "metadata": {},
   "outputs": [],
   "source": [
    "# The Free Crypto API Call endpoint URLs for the held cryptocurrency assets\n",
    "btc_url = \"https://api.alternative.me/v2/ticker/Bitcoin/?convert=USD\"\n",
    "eth_url = \"https://api.alternative.me/v2/ticker/Ethereum/?convert=USD\""
   ]
  },
  {
   "cell_type": "markdown",
   "metadata": {},
   "source": [
    "#### Step 2. Use the Requests library to get the current price (in US dollars) of Bitcoin (BTC) and Ethereum (ETH) by using the API endpoints that the starter code supplied."
   ]
  },
  {
   "cell_type": "code",
   "execution_count": 10,
   "metadata": {},
   "outputs": [
    {
     "name": "stdout",
     "output_type": "stream",
     "text": [
      "{\n",
      "    \"data\": {\n",
      "        \"1\": {\n",
      "            \"circulating_supply\": 18757456,\n",
      "            \"id\": 1,\n",
      "            \"last_updated\": 1626392047,\n",
      "            \"max_supply\": 21000000,\n",
      "            \"name\": \"Bitcoin\",\n",
      "            \"quotes\": {\n",
      "                \"USD\": {\n",
      "                    \"market_cap\": 598735849895,\n",
      "                    \"percent_change_1h\": -0.0421683070330632,\n",
      "                    \"percent_change_24h\": -2.86288058755394,\n",
      "                    \"percent_change_7d\": -5.91691837142211,\n",
      "                    \"percentage_change_1h\": -0.0421683070330632,\n",
      "                    \"percentage_change_24h\": -2.86288058755394,\n",
      "                    \"percentage_change_7d\": -5.91691837142211,\n",
      "                    \"price\": 31925.0,\n",
      "                    \"volume_24h\": 21611284427\n",
      "                }\n",
      "            },\n",
      "            \"rank\": 1,\n",
      "            \"symbol\": \"BTC\",\n",
      "            \"total_supply\": 18757456,\n",
      "            \"website_slug\": \"bitcoin\"\n",
      "        }\n",
      "    },\n",
      "    \"metadata\": {\n",
      "        \"error\": null,\n",
      "        \"num_cryptocurrencies\": 3130,\n",
      "        \"timestamp\": 1626392047\n",
      "    }\n",
      "}\n"
     ]
    }
   ],
   "source": [
    "# Using the Python requests library, make an API call to access the current price of BTC\n",
    "btc_response = requests.get(btc_url).json()\n",
    "\n",
    "# Use the json.dumps function to review the response data from the API call\n",
    "# Use the indent and sort_keys parameters to make the response object readable\n",
    "print(json.dumps(btc_response, indent=4, sort_keys=True))\n"
   ]
  },
  {
   "cell_type": "code",
   "execution_count": 11,
   "metadata": {},
   "outputs": [
    {
     "name": "stdout",
     "output_type": "stream",
     "text": [
      "{\n",
      "    \"data\": {\n",
      "        \"1027\": {\n",
      "            \"circulating_supply\": 116708513,\n",
      "            \"id\": 1027,\n",
      "            \"last_updated\": 1626392045,\n",
      "            \"max_supply\": 0,\n",
      "            \"name\": \"Ethereum\",\n",
      "            \"quotes\": {\n",
      "                \"USD\": {\n",
      "                    \"market_cap\": 225332481915,\n",
      "                    \"percent_change_1h\": -0.191757936284422,\n",
      "                    \"percent_change_24h\": -3.38713572966735,\n",
      "                    \"percent_change_7d\": -16.7163404546888,\n",
      "                    \"percentage_change_1h\": -0.191757936284422,\n",
      "                    \"percentage_change_24h\": -3.38713572966735,\n",
      "                    \"percentage_change_7d\": -16.7163404546888,\n",
      "                    \"price\": 1929.88,\n",
      "                    \"volume_24h\": 18067401700\n",
      "                }\n",
      "            },\n",
      "            \"rank\": 2,\n",
      "            \"symbol\": \"ETH\",\n",
      "            \"total_supply\": 116708513,\n",
      "            \"website_slug\": \"ethereum\"\n",
      "        }\n",
      "    },\n",
      "    \"metadata\": {\n",
      "        \"error\": null,\n",
      "        \"num_cryptocurrencies\": 3130,\n",
      "        \"timestamp\": 1626392045\n",
      "    }\n",
      "}\n"
     ]
    }
   ],
   "source": [
    "# Using the Python requests library, make an API call to access the current price ETH\n",
    "eth_response = requests.get(eth_url).json()\n",
    "\n",
    "# Use the json.dumps function to review the response data from the API call\n",
    "# Use the indent and sort_keys parameters to make the response object readable\n",
    "print(json.dumps(eth_response, indent=4, sort_keys=True))\n"
   ]
  },
  {
   "cell_type": "markdown",
   "metadata": {},
   "source": [
    "#### Step 3: Navigate the JSON response object to access the current price of each coin, and store each in a variable."
   ]
  },
  {
   "cell_type": "code",
   "execution_count": 118,
   "metadata": {},
   "outputs": [
    {
     "name": "stdout",
     "output_type": "stream",
     "text": [
      "The current price of BTC is $31,925.00\n"
     ]
    }
   ],
   "source": [
    "# Navigate the BTC response object to access the current price of BTC\n",
    "btc_price = btc_response['data']['1']['quotes']['USD']['price']\n",
    "\n",
    "# Print the current price of BTC\n",
    "print(f\"The current price of BTC is ${btc_price:,.2f}\")\n"
   ]
  },
  {
   "cell_type": "code",
   "execution_count": 119,
   "metadata": {},
   "outputs": [
    {
     "name": "stdout",
     "output_type": "stream",
     "text": [
      "The current price of ETH is $1,929.88\n"
     ]
    }
   ],
   "source": [
    "# Navigate the BTC response object to access the current price of ETH\n",
    "eth_price = eth_response['data']['1027']['quotes']['USD']['price']\n",
    "\n",
    "# Print the current price of ETH\n",
    "print(f\"The current price of ETH is ${eth_price:,.2f}\")\n"
   ]
  },
  {
   "cell_type": "markdown",
   "metadata": {},
   "source": [
    "### Step 4: Calculate the value, in US dollars, of the current amount of each cryptocurrency and of the entire cryptocurrency wallet."
   ]
  },
  {
   "cell_type": "code",
   "execution_count": 120,
   "metadata": {},
   "outputs": [
    {
     "name": "stdout",
     "output_type": "stream",
     "text": [
      "The current value of the BTC holding is $38,310.00\n"
     ]
    }
   ],
   "source": [
    "# Compute the current value of the BTC holding \n",
    "btc_value = btc_coins * btc_price\n",
    "\n",
    "# Print current value of your holding in BTC\n",
    "print(f\"The current value of the BTC holding is ${btc_value:,.2f}\")\n"
   ]
  },
  {
   "cell_type": "code",
   "execution_count": 121,
   "metadata": {},
   "outputs": [
    {
     "name": "stdout",
     "output_type": "stream",
     "text": [
      "The current value of the ETH holding is $10,228.36\n"
     ]
    }
   ],
   "source": [
    "# Compute the current value of the ETH holding \n",
    "eth_value = eth_coins * eth_price\n",
    "\n",
    "# Print current value of your holding in ETH\n",
    "print(f\"The current value of the ETH holding is ${eth_value:,.2f}\")\n"
   ]
  },
  {
   "cell_type": "code",
   "execution_count": 124,
   "metadata": {},
   "outputs": [
    {
     "name": "stdout",
     "output_type": "stream",
     "text": [
      "The current cryptocurrency wallet balance is $48,538.36\n"
     ]
    }
   ],
   "source": [
    "# Compute the total value of the cryptocurrency wallet\n",
    "# Add the value of the BTC holding to the value of the ETH holding\n",
    "total_crypto_wallet = btc_value + eth_value\n",
    "\n",
    "# Print current cryptocurrency wallet balance\n",
    "print(f\"The current cryptocurrency wallet balance is ${total_crypto_wallet:,.2f}\")\n"
   ]
  },
  {
   "cell_type": "markdown",
   "metadata": {},
   "source": [
    "### Evaluate the Stock and Bond Holdings by Using the Alpaca SDK\n",
    "\n",
    "In this section, you’ll determine the current value of a member’s stock and bond holdings. You’ll make an API call to Alpaca via the Alpaca SDK to get the current closing prices of the SPDR S&P 500 ETF Trust (ticker: SPY) and of the iShares Core US Aggregate Bond ETF (ticker: AGG). For the prototype, assume that the member holds 110 shares of SPY, which represents the stock portion of their portfolio, and 200 shares of AGG, which represents the bond portion. To do all this, complete the following steps:\n",
    "\n",
    "1. In the `Starter_Code` folder, create an environment file (`.env`) to store the values of your Alpaca API key and Alpaca secret key.\n",
    "\n",
    "2. Set the variables for the Alpaca API and secret keys. Using the Alpaca SDK, create the Alpaca `tradeapi.REST` object. In this object, include the parameters for the Alpaca API key, the secret key, and the version number.\n",
    "\n",
    "3. Set the following parameters for the Alpaca API call:\n",
    "\n",
    "    - `tickers`: Use the tickers for the member’s stock and bond holdings.\n",
    "\n",
    "    - `timeframe`: Use a time frame of one day.\n",
    "\n",
    "    - `start_date` and `end_date`: Use the same date for these parameters, and format them with the date of the previous weekday (or `2020-08-07`). This is because you want the one closing price for the most-recent trading day.\n",
    "\n",
    "4. Get the current closing prices for `SPY` and `AGG` by using the Alpaca `get_barset` function. Format the response as a Pandas DataFrame by including the `df` property at the end of the `get_barset` function.\n",
    "\n",
    "5. Navigating the Alpaca response DataFrame, select the `SPY` and `AGG` closing prices, and store them as variables.\n",
    "\n",
    "6. Calculate the value, in US dollars, of the current amount of shares in each of the stock and bond portions of the portfolio, and print the results.\n"
   ]
  },
  {
   "cell_type": "markdown",
   "metadata": {},
   "source": [
    "#### Review the total number of shares held in both (SPY) and (AGG)."
   ]
  },
  {
   "cell_type": "code",
   "execution_count": 27,
   "metadata": {},
   "outputs": [],
   "source": [
    "# Current amount of shares held in both the stock (SPY) and bond (AGG) portion of the portfolio.\n",
    "spy_shares = 110\n",
    "agg_shares = 200\n"
   ]
  },
  {
   "cell_type": "markdown",
   "metadata": {},
   "source": [
    "#### Step 1: In the `Starter_Code` folder, create an environment file (`.env`) to store the values of your Alpaca API key and Alpaca secret key."
   ]
  },
  {
   "cell_type": "markdown",
   "metadata": {},
   "source": [
    "#### Step 2: Set the variables for the Alpaca API and secret keys. Using the Alpaca SDK, create the Alpaca `tradeapi.REST` object. In this object, include the parameters for the Alpaca API key, the secret key, and the version number."
   ]
  },
  {
   "cell_type": "code",
   "execution_count": 28,
   "metadata": {},
   "outputs": [
    {
     "data": {
      "text/plain": [
       "str"
      ]
     },
     "metadata": {},
     "output_type": "display_data"
    },
    {
     "data": {
      "text/plain": [
       "str"
      ]
     },
     "metadata": {},
     "output_type": "display_data"
    }
   ],
   "source": [
    "# Set the variables for the Alpaca API and secret keys\n",
    "alpaca_api_key = os.getenv(\"ALPACA_API_KEY\")\n",
    "alpaca_secret_key = os.getenv(\"ALPACA_SECRET_KEY\")\n",
    "\n",
    "display(type(alpaca_api_key))\n",
    "display(type(alpaca_secret_key))\n",
    "\n",
    "# Create the Alpaca tradeapi.REST object\n",
    "alpaca = tradeapi.REST(\n",
    "    alpaca_api_key,\n",
    "    alpaca_secret_key,\n",
    "    api_version=\"v2\")\n"
   ]
  },
  {
   "cell_type": "markdown",
   "metadata": {},
   "source": [
    "#### Step 3: Set the following parameters for the Alpaca API call:\n",
    "\n",
    "- `tickers`: Use the tickers for the member’s stock and bond holdings.\n",
    "\n",
    "- `timeframe`: Use a time frame of one day.\n",
    "\n",
    "- `start_date` and `end_date`: Use the same date for these parameters, and format them with the date of the previous weekday (or `2020-08-07`). This is because you want the one closing price for the most-recent trading day.\n"
   ]
  },
  {
   "cell_type": "code",
   "execution_count": 89,
   "metadata": {},
   "outputs": [],
   "source": [
    "# Set the tickers for both the bond and stock portion of the portfolio\n",
    "tickers = [\"AGG\", \"SPY\"]\n",
    "\n",
    "# Set timeframe to 1D \n",
    "timeframe = \"1D\"\n",
    "\n",
    "# Format current date as ISO format\n",
    "# Set both the start and end date at the date of your prior weekday \n",
    "# This will give you the closing price of the previous trading day\n",
    "# Alternatively you can use a start and end date of 2020-08-07\n",
    "start_date = pd.Timestamp(\"2021-07-14\", tz=\"America/New_York\").isoformat()\n",
    "end_date = pd.Timestamp(\"2021-07-14\", tz=\"America/New_York\").isoformat()\n"
   ]
  },
  {
   "cell_type": "markdown",
   "metadata": {},
   "source": [
    "#### Step 4: Get the current closing prices for `SPY` and `AGG` by using the Alpaca `get_barset` function. Format the response as a Pandas DataFrame by including the `df` property at the end of the `get_barset` function."
   ]
  },
  {
   "cell_type": "code",
   "execution_count": 90,
   "metadata": {},
   "outputs": [
    {
     "data": {
      "text/html": [
       "<div>\n",
       "<style scoped>\n",
       "    .dataframe tbody tr th:only-of-type {\n",
       "        vertical-align: middle;\n",
       "    }\n",
       "\n",
       "    .dataframe tbody tr th {\n",
       "        vertical-align: top;\n",
       "    }\n",
       "\n",
       "    .dataframe thead tr th {\n",
       "        text-align: left;\n",
       "    }\n",
       "\n",
       "    .dataframe thead tr:last-of-type th {\n",
       "        text-align: right;\n",
       "    }\n",
       "</style>\n",
       "<table border=\"1\" class=\"dataframe\">\n",
       "  <thead>\n",
       "    <tr>\n",
       "      <th></th>\n",
       "      <th colspan=\"5\" halign=\"left\">AGG</th>\n",
       "      <th colspan=\"5\" halign=\"left\">SPY</th>\n",
       "    </tr>\n",
       "    <tr>\n",
       "      <th></th>\n",
       "      <th>open</th>\n",
       "      <th>high</th>\n",
       "      <th>low</th>\n",
       "      <th>close</th>\n",
       "      <th>volume</th>\n",
       "      <th>open</th>\n",
       "      <th>high</th>\n",
       "      <th>low</th>\n",
       "      <th>close</th>\n",
       "      <th>volume</th>\n",
       "    </tr>\n",
       "    <tr>\n",
       "      <th>time</th>\n",
       "      <th></th>\n",
       "      <th></th>\n",
       "      <th></th>\n",
       "      <th></th>\n",
       "      <th></th>\n",
       "      <th></th>\n",
       "      <th></th>\n",
       "      <th></th>\n",
       "      <th></th>\n",
       "      <th></th>\n",
       "    </tr>\n",
       "  </thead>\n",
       "  <tbody>\n",
       "    <tr>\n",
       "      <th>2021-07-14 00:00:00-04:00</th>\n",
       "      <td>115.59</td>\n",
       "      <td>115.76</td>\n",
       "      <td>115.569</td>\n",
       "      <td>115.75</td>\n",
       "      <td>3907266</td>\n",
       "      <td>437.39</td>\n",
       "      <td>437.92</td>\n",
       "      <td>434.91</td>\n",
       "      <td>436.22</td>\n",
       "      <td>54445950</td>\n",
       "    </tr>\n",
       "  </tbody>\n",
       "</table>\n",
       "</div>"
      ],
      "text/plain": [
       "                              AGG                                       SPY  \\\n",
       "                             open    high      low   close   volume    open   \n",
       "time                                                                          \n",
       "2021-07-14 00:00:00-04:00  115.59  115.76  115.569  115.75  3907266  437.39   \n",
       "\n",
       "                                                             \n",
       "                             high     low   close    volume  \n",
       "time                                                         \n",
       "2021-07-14 00:00:00-04:00  437.92  434.91  436.22  54445950  "
      ]
     },
     "execution_count": 90,
     "metadata": {},
     "output_type": "execute_result"
    }
   ],
   "source": [
    "# Use the Alpaca get_barset function to get current closing prices the portfolio\n",
    "# Be sure to set the `df` property after the function to format the response object as a DataFrame\n",
    "prices_df = alpaca.get_barset(\n",
    "    tickers,\n",
    "    timeframe,\n",
    "    start=start_date,\n",
    "    end=end_date,\n",
    ").df\n",
    "\n",
    "# Review the first 5 rows of the Alpaca DataFrame\n",
    "prices_df.head()\n"
   ]
  },
  {
   "cell_type": "markdown",
   "metadata": {},
   "source": [
    "#### Step 5: Navigating the Alpaca response DataFrame, select the `SPY` and `AGG` closing prices, and store them as variables."
   ]
  },
  {
   "cell_type": "code",
   "execution_count": 91,
   "metadata": {},
   "outputs": [
    {
     "name": "stdout",
     "output_type": "stream",
     "text": [
      "The AGG closing price is $115.75\n"
     ]
    }
   ],
   "source": [
    "# Access the closing price for AGG from the Alpaca DataFrame\n",
    "# Converting the value to a floating point number\n",
    "agg_close_price = float(prices_df[\"AGG\"][\"close\"])\n",
    "\n",
    "# Print the AGG closing price\n",
    "print(f\"The AGG closing price is ${agg_close_price}\")\n"
   ]
  },
  {
   "cell_type": "code",
   "execution_count": 92,
   "metadata": {},
   "outputs": [
    {
     "name": "stdout",
     "output_type": "stream",
     "text": [
      "The SPY closing price is $436.22\n"
     ]
    }
   ],
   "source": [
    "# Access the closing price for SPY from the Alpaca DataFrame\n",
    "# Converting the value to a floating point number\n",
    "spy_close_price = float(prices_df[\"SPY\"][\"close\"])\n",
    "\n",
    "# Print the SPY closing price\n",
    "print(f\"The SPY closing price is ${spy_close_price}\")\n"
   ]
  },
  {
   "cell_type": "markdown",
   "metadata": {},
   "source": [
    "#### Step 6: Calculate the value, in US dollars, of the current amount of shares in each of the stock and bond portions of the portfolio, and print the results."
   ]
  },
  {
   "cell_type": "code",
   "execution_count": 126,
   "metadata": {},
   "outputs": [
    {
     "name": "stdout",
     "output_type": "stream",
     "text": [
      "The current value of the bond portfolio is $23,150.00\n"
     ]
    }
   ],
   "source": [
    "# Calculate the current value of the bond portion of the portfolio\n",
    "agg_value = agg_shares * agg_close_price\n",
    "\n",
    "# Print the current value of the bond portfolio\n",
    "print(f\"The current value of the bond portfolio is ${agg_value:,.2f}\")\n"
   ]
  },
  {
   "cell_type": "code",
   "execution_count": 128,
   "metadata": {},
   "outputs": [
    {
     "name": "stdout",
     "output_type": "stream",
     "text": [
      "The current value of the stock portfolio is $47,984.20\n"
     ]
    }
   ],
   "source": [
    "# Calculate the current value of the stock portion of the portfolio\n",
    "spy_value = spy_shares * spy_close_price\n",
    "\n",
    "# Print the current value of the stock portfolio\n",
    "print(f\"The current value of the stock portfolio is ${spy_value:,.2f}\")\n"
   ]
  },
  {
   "cell_type": "code",
   "execution_count": 130,
   "metadata": {},
   "outputs": [
    {
     "name": "stdout",
     "output_type": "stream",
     "text": [
      "The current balance of the stock and bond portfolio is $71,134.20\n"
     ]
    }
   ],
   "source": [
    "# Calculate the total value of the stock and bond portion of the portfolio\n",
    "total_stocks_bonds = agg_value + spy_value\n",
    "\n",
    "# Print the current balance of the stock and bond portion of the portfolio\n",
    "print(f\"The current balance of the stock and bond portfolio is ${total_stocks_bonds:,.2f}\")\n"
   ]
  },
  {
   "cell_type": "code",
   "execution_count": 132,
   "metadata": {},
   "outputs": [
    {
     "name": "stdout",
     "output_type": "stream",
     "text": [
      "The current balance of the entire savings portfolio is $119,672.56\n"
     ]
    }
   ],
   "source": [
    "# Calculate the total value of the member's entire savings portfolio\n",
    "# Add the value of the cryptocurrency walled to the value of the total stocks and bonds\n",
    "total_portfolio = total_crypto_wallet + total_stocks_bonds\n",
    "\n",
    "# Print current entire savings balance\n",
    "print(f\"The current balance of the entire savings portfolio is ${total_portfolio:,.2f}\")\n"
   ]
  },
  {
   "cell_type": "markdown",
   "metadata": {},
   "source": [
    "### Evaluate the Emergency Fund\n",
    "\n",
    "In this section, you’ll use the valuations for the cryptocurrency wallet and for the stock and bond portions of the portfolio to determine if the credit union member has enough savings to build an emergency fund into their financial plan. To do this, complete the following steps:\n",
    "\n",
    "1. Create a Python list named `savings_data` that has two elements. The first element contains the total value of the cryptocurrency wallet. The second element contains the total value of the stock and bond portions of the portfolio.\n",
    "\n",
    "2. Use the `savings_data` list to create a Pandas DataFrame named `savings_df`, and then display this DataFrame. The function to create the DataFrame should take the following three parameters:\n",
    "\n",
    "    - `savings_data`: Use the list that you just created.\n",
    "\n",
    "    - `columns`: Set this parameter equal to a Python list with a single value called `amount`.\n",
    "\n",
    "    - `index`: Set this parameter equal to a Python list with the values of `crypto` and `stock/bond`.\n",
    "\n",
    "3. Use the `savings_df` DataFrame to plot a pie chart that visualizes the composition of the member’s portfolio. The y-axis of the pie chart uses `amount`. Be sure to add a title.\n",
    "\n",
    "4. Using Python, determine if the current portfolio has enough to create an emergency fund as part of the member’s financial plan. Ideally, an emergency fund should equal to three times the member’s monthly income. To do this, implement the following steps:\n",
    "\n",
    "    1. Create a variable named `emergency_fund_value`, and set it equal to three times the value of the member’s `monthly_income` of $12000. (You set this earlier in Part 1).\n",
    "\n",
    "    2. Create a series of three if statements to determine if the member’s total portfolio is large enough to fund the emergency portfolio:\n",
    "\n",
    "        1. If the total portfolio value is greater than the emergency fund value, display a message congratulating the member for having enough money in this fund.\n",
    "\n",
    "        2. Else if the total portfolio value is equal to the emergency fund value, display a message congratulating the member on reaching this important financial goal.\n",
    "\n",
    "        3. Else the total portfolio is less than the emergency fund value, so display a message showing how many dollars away the member is from reaching the goal. (Subtract the total portfolio value from the emergency fund value.)\n"
   ]
  },
  {
   "cell_type": "markdown",
   "metadata": {},
   "source": [
    "#### Step 1: Create a Python list named `savings_data` that has two elements. The first element contains the total value of the cryptocurrency wallet. The second element contains the total value of the stock and bond portions of the portfolio."
   ]
  },
  {
   "cell_type": "code",
   "execution_count": 97,
   "metadata": {},
   "outputs": [
    {
     "data": {
      "text/plain": [
       "[48538.364, 71134.20000000001]"
      ]
     },
     "execution_count": 97,
     "metadata": {},
     "output_type": "execute_result"
    }
   ],
   "source": [
    "# Consolidate financial assets data into a Python list\n",
    "savings_data = [total_crypto_wallet, total_stocks_bonds]\n",
    "\n",
    "# Review the Python list savings_data\n",
    "savings_data\n",
    "    "
   ]
  },
  {
   "cell_type": "markdown",
   "metadata": {},
   "source": [
    "#### Step 2: Use the `savings_data` list to create a Pandas DataFrame named `savings_df`, and then display this DataFrame. The function to create the DataFrame should take the following three parameters:\n",
    "\n",
    "- `savings_data`: Use the list that you just created.\n",
    "\n",
    "- `columns`: Set this parameter equal to a Python list with a single value called `amount`.\n",
    "\n",
    "- `index`: Set this parameter equal to a Python list with the values of `crypto` and `stock/bond`.\n"
   ]
  },
  {
   "cell_type": "code",
   "execution_count": 98,
   "metadata": {},
   "outputs": [
    {
     "data": {
      "text/html": [
       "<div>\n",
       "<style scoped>\n",
       "    .dataframe tbody tr th:only-of-type {\n",
       "        vertical-align: middle;\n",
       "    }\n",
       "\n",
       "    .dataframe tbody tr th {\n",
       "        vertical-align: top;\n",
       "    }\n",
       "\n",
       "    .dataframe thead th {\n",
       "        text-align: right;\n",
       "    }\n",
       "</style>\n",
       "<table border=\"1\" class=\"dataframe\">\n",
       "  <thead>\n",
       "    <tr style=\"text-align: right;\">\n",
       "      <th></th>\n",
       "      <th>amount</th>\n",
       "    </tr>\n",
       "  </thead>\n",
       "  <tbody>\n",
       "    <tr>\n",
       "      <th>crypto</th>\n",
       "      <td>48538.364</td>\n",
       "    </tr>\n",
       "    <tr>\n",
       "      <th>stock/bond</th>\n",
       "      <td>71134.200</td>\n",
       "    </tr>\n",
       "  </tbody>\n",
       "</table>\n",
       "</div>"
      ],
      "text/plain": [
       "               amount\n",
       "crypto      48538.364\n",
       "stock/bond  71134.200"
      ]
     },
     "execution_count": 98,
     "metadata": {},
     "output_type": "execute_result"
    }
   ],
   "source": [
    "# Create a Pandas DataFrame called savings_df \n",
    "savings_df = pd.DataFrame(savings_data, columns=[\"amount\"], index=[\"crypto\", \"stock/bond\"])\n",
    "\n",
    "# Display the savings_df DataFrame\n",
    "savings_df\n"
   ]
  },
  {
   "cell_type": "markdown",
   "metadata": {},
   "source": [
    "#### Step 3: Use the `savings_df` DataFrame to plot a pie chart that visualizes the composition of the member’s portfolio. The y-axis of the pie chart uses `amount`. Be sure to add a title."
   ]
  },
  {
   "cell_type": "code",
   "execution_count": 99,
   "metadata": {},
   "outputs": [
    {
     "data": {
      "image/png": "[encoded data removed]",
      "text/plain": [
       "<Figure size 360x360 with 1 Axes>"
      ]
     },
     "metadata": {},
     "output_type": "display_data"
    }
   ],
   "source": [
    "# Plot the total value of the member's portfolio (crypto and stock/bond) in a pie chart\n",
    "plot = savings_df.plot.pie(y='amount', figsize=(5, 5), title=\"Pie Chart of Portfolio Composition\")\n"
   ]
  },
  {
   "cell_type": "markdown",
   "metadata": {},
   "source": [
    "#### Step 4: Using Python, determine if the current portfolio has enough to create an emergency fund as part of the member’s financial plan. Ideally, an emergency fund should equal to three times the member’s monthly income. To do this, implement the following steps:\n",
    "\n",
    "Step 1. Create a variable named `emergency_fund_value`, and set it equal to three times the value of the member’s `monthly_income` of 12000. (You set this earlier in Part 1).\n",
    "\n",
    "Step 2. Create a series of three if statements to determine if the member’s total portfolio is large enough to fund the emergency portfolio:\n",
    "\n",
    "* If the total portfolio value is greater than the emergency fund value, display a message congratulating the member for having enough money in this fund.\n",
    "\n",
    "* Else if the total portfolio value is equal to the emergency fund value, display a message congratulating the member on reaching this important financial goal.\n",
    "\n",
    "* Else the total portfolio is less than the emergency fund value, so display a message showing how many dollars away the member is from reaching the goal. (Subtract the total portfolio value from the emergency fund value.)\n"
   ]
  },
  {
   "cell_type": "markdown",
   "metadata": {},
   "source": [
    "##### Step 4-1: Create a variable named `emergency_fund_value`, and set it equal to three times the value of the member’s `monthly_income` of 12000. (You set this earlier in Part 1)."
   ]
  },
  {
   "cell_type": "code",
   "execution_count": 100,
   "metadata": {},
   "outputs": [],
   "source": [
    "# Create a variable named emergency_fund_value\n",
    "emergency_fund_value = 3 * monthly_income\n"
   ]
  },
  {
   "cell_type": "markdown",
   "metadata": {},
   "source": [
    "##### Step 4-2: Create a series of three if statements to determine if the member’s total portfolio is large enough to fund the emergency portfolio:\n",
    "\n",
    "* If the total portfolio value is greater than the emergency fund value, display a message congratulating the member for having enough money in this fund.\n",
    "\n",
    "* Else if the total portfolio value is equal to the emergency fund value, display a message congratulating the member on reaching this important financial goal.\n",
    "\n",
    "* Else the total portfolio is less than the emergency fund value, so display a message showing how many dollars away the member is from reaching the goal. (Subtract the total portfolio value from the emergency fund value.)"
   ]
  },
  {
   "cell_type": "code",
   "execution_count": 101,
   "metadata": {},
   "outputs": [
    {
     "name": "stdout",
     "output_type": "stream",
     "text": [
      "Congrats! You have enough money in your fund\n"
     ]
    }
   ],
   "source": [
    "# Evaluate the possibility of creating an emergency fund with 3 conditions:\n",
    "if total_portfolio > emergency_fund_value:\n",
    "    print(\"Congrats! You have enough money in your fund\")\n",
    "elif total_portfolio == emergency_fund_value:\n",
    "    print(\"Congrats! You reached your goal. Your total portfolio value is equal to the emergency fund value.\")\n",
    "else:\n",
    "    print(f\"You are ${emergency_fund_value-total_portfolio} away from reaching your goal.\")\n"
   ]
  },
  {
   "cell_type": "markdown",
   "metadata": {},
   "source": [
    "## Part 2: Create a Financial Planner for Retirement"
   ]
  },
  {
   "cell_type": "markdown",
   "metadata": {},
   "source": [
    "### Create the Monte Carlo Simulation\n",
    "\n",
    "In this section, you’ll use the MCForecastTools library to create a Monte Carlo simulation for the member’s savings portfolio. To do this, complete the following steps:\n",
    "\n",
    "1. Make an API call via the Alpaca SDK to get 10 years of historical closing prices for a traditional 60/40 portfolio split: 60% stocks (SPY) and 40% bonds (AGG).\n",
    "\n",
    "2. Run a Monte Carlo simulation of 500 samples and 30 years for the 60/40 portfolio, and then plot the results.The following image shows the overlay line plot resulting from a simulation with these characteristics. However, because a random number generator is used to run each live Monte Carlo simulation, your image will differ slightly from this exact image:\n",
    "\n",
    "![A screenshot depicts the resulting plot.](Images/5-4-monte-carlo-line-plot.png)\n",
    "\n",
    "3. Plot the probability distribution of the Monte Carlo simulation. Plot the probability distribution of the Monte Carlo simulation. The following image shows the histogram plot resulting from a simulation with these characteristics. However, because a random number generator is used to run each live Monte Carlo simulation, your image will differ slightly from this exact image:\n",
    "\n",
    "![A screenshot depicts the histogram plot.](Images/5-4-monte-carlo-histogram.png)\n",
    "\n",
    "4. Generate the summary statistics for the Monte Carlo simulation.\n",
    "\n"
   ]
  },
  {
   "cell_type": "markdown",
   "metadata": {},
   "source": [
    "#### Step 1: Make an API call via the Alpaca SDK to get 10 years of historical closing prices for a traditional 60/40 portfolio split: 60% stocks (SPY) and 40% bonds (AGG)."
   ]
  },
  {
   "cell_type": "code",
   "execution_count": 102,
   "metadata": {},
   "outputs": [],
   "source": [
    "# Set start and end dates of 10 years back from your current date\n",
    "# Alternatively, you can use an end date of 2020-08-07 and work 10 years back from that date \n",
    "start_date = pd.Timestamp(\"2011-07-14\", tz=\"America/New_York\").isoformat()\n",
    "end_date = pd.Timestamp(\"2021-07-14\", tz=\"America/New_York\").isoformat()\n"
   ]
  },
  {
   "cell_type": "code",
   "execution_count": 103,
   "metadata": {},
   "outputs": [
    {
     "data": {
      "text/html": [
       "<div>\n",
       "<style scoped>\n",
       "    .dataframe tbody tr th:only-of-type {\n",
       "        vertical-align: middle;\n",
       "    }\n",
       "\n",
       "    .dataframe tbody tr th {\n",
       "        vertical-align: top;\n",
       "    }\n",
       "\n",
       "    .dataframe thead tr th {\n",
       "        text-align: left;\n",
       "    }\n",
       "\n",
       "    .dataframe thead tr:last-of-type th {\n",
       "        text-align: right;\n",
       "    }\n",
       "</style>\n",
       "<table border=\"1\" class=\"dataframe\">\n",
       "  <thead>\n",
       "    <tr>\n",
       "      <th></th>\n",
       "      <th colspan=\"5\" halign=\"left\">AGG</th>\n",
       "      <th colspan=\"5\" halign=\"left\">SPY</th>\n",
       "    </tr>\n",
       "    <tr>\n",
       "      <th></th>\n",
       "      <th>open</th>\n",
       "      <th>high</th>\n",
       "      <th>low</th>\n",
       "      <th>close</th>\n",
       "      <th>volume</th>\n",
       "      <th>open</th>\n",
       "      <th>high</th>\n",
       "      <th>low</th>\n",
       "      <th>close</th>\n",
       "      <th>volume</th>\n",
       "    </tr>\n",
       "    <tr>\n",
       "      <th>time</th>\n",
       "      <th></th>\n",
       "      <th></th>\n",
       "      <th></th>\n",
       "      <th></th>\n",
       "      <th></th>\n",
       "      <th></th>\n",
       "      <th></th>\n",
       "      <th></th>\n",
       "      <th></th>\n",
       "      <th></th>\n",
       "    </tr>\n",
       "  </thead>\n",
       "  <tbody>\n",
       "    <tr>\n",
       "      <th>2021-02-22 00:00:00-05:00</th>\n",
       "      <td>115.76</td>\n",
       "      <td>115.8662</td>\n",
       "      <td>115.4800</td>\n",
       "      <td>115.49</td>\n",
       "      <td>4704520</td>\n",
       "      <td>387.06</td>\n",
       "      <td>389.620</td>\n",
       "      <td>386.7400</td>\n",
       "      <td>387.11</td>\n",
       "      <td>56604869</td>\n",
       "    </tr>\n",
       "    <tr>\n",
       "      <th>2021-02-23 00:00:00-05:00</th>\n",
       "      <td>115.75</td>\n",
       "      <td>115.7500</td>\n",
       "      <td>115.2700</td>\n",
       "      <td>115.52</td>\n",
       "      <td>5373535</td>\n",
       "      <td>384.66</td>\n",
       "      <td>388.945</td>\n",
       "      <td>380.2000</td>\n",
       "      <td>387.50</td>\n",
       "      <td>98333278</td>\n",
       "    </tr>\n",
       "    <tr>\n",
       "      <th>2021-02-24 00:00:00-05:00</th>\n",
       "      <td>115.06</td>\n",
       "      <td>115.5000</td>\n",
       "      <td>115.0100</td>\n",
       "      <td>115.47</td>\n",
       "      <td>6131453</td>\n",
       "      <td>386.33</td>\n",
       "      <td>392.230</td>\n",
       "      <td>385.2700</td>\n",
       "      <td>391.76</td>\n",
       "      <td>64527459</td>\n",
       "    </tr>\n",
       "    <tr>\n",
       "      <th>2021-02-25 00:00:00-05:00</th>\n",
       "      <td>115.01</td>\n",
       "      <td>115.2900</td>\n",
       "      <td>114.2000</td>\n",
       "      <td>114.41</td>\n",
       "      <td>14520445</td>\n",
       "      <td>390.41</td>\n",
       "      <td>391.880</td>\n",
       "      <td>380.7789</td>\n",
       "      <td>382.39</td>\n",
       "      <td>137059806</td>\n",
       "    </tr>\n",
       "    <tr>\n",
       "      <th>2021-02-26 00:00:00-05:00</th>\n",
       "      <td>114.96</td>\n",
       "      <td>115.3900</td>\n",
       "      <td>114.5915</td>\n",
       "      <td>115.37</td>\n",
       "      <td>9735524</td>\n",
       "      <td>384.35</td>\n",
       "      <td>385.580</td>\n",
       "      <td>378.2300</td>\n",
       "      <td>380.32</td>\n",
       "      <td>134902084</td>\n",
       "    </tr>\n",
       "  </tbody>\n",
       "</table>\n",
       "</div>"
      ],
      "text/plain": [
       "                              AGG                                        \\\n",
       "                             open      high       low   close    volume   \n",
       "time                                                                      \n",
       "2021-02-22 00:00:00-05:00  115.76  115.8662  115.4800  115.49   4704520   \n",
       "2021-02-23 00:00:00-05:00  115.75  115.7500  115.2700  115.52   5373535   \n",
       "2021-02-24 00:00:00-05:00  115.06  115.5000  115.0100  115.47   6131453   \n",
       "2021-02-25 00:00:00-05:00  115.01  115.2900  114.2000  114.41  14520445   \n",
       "2021-02-26 00:00:00-05:00  114.96  115.3900  114.5915  115.37   9735524   \n",
       "\n",
       "                              SPY                                        \n",
       "                             open     high       low   close     volume  \n",
       "time                                                                     \n",
       "2021-02-22 00:00:00-05:00  387.06  389.620  386.7400  387.11   56604869  \n",
       "2021-02-23 00:00:00-05:00  384.66  388.945  380.2000  387.50   98333278  \n",
       "2021-02-24 00:00:00-05:00  386.33  392.230  385.2700  391.76   64527459  \n",
       "2021-02-25 00:00:00-05:00  390.41  391.880  380.7789  382.39  137059806  \n",
       "2021-02-26 00:00:00-05:00  384.35  385.580  378.2300  380.32  134902084  "
      ]
     },
     "metadata": {},
     "output_type": "display_data"
    },
    {
     "data": {
      "text/html": [
       "<div>\n",
       "<style scoped>\n",
       "    .dataframe tbody tr th:only-of-type {\n",
       "        vertical-align: middle;\n",
       "    }\n",
       "\n",
       "    .dataframe tbody tr th {\n",
       "        vertical-align: top;\n",
       "    }\n",
       "\n",
       "    .dataframe thead tr th {\n",
       "        text-align: left;\n",
       "    }\n",
       "\n",
       "    .dataframe thead tr:last-of-type th {\n",
       "        text-align: right;\n",
       "    }\n",
       "</style>\n",
       "<table border=\"1\" class=\"dataframe\">\n",
       "  <thead>\n",
       "    <tr>\n",
       "      <th></th>\n",
       "      <th colspan=\"5\" halign=\"left\">AGG</th>\n",
       "      <th colspan=\"5\" halign=\"left\">SPY</th>\n",
       "    </tr>\n",
       "    <tr>\n",
       "      <th></th>\n",
       "      <th>open</th>\n",
       "      <th>high</th>\n",
       "      <th>low</th>\n",
       "      <th>close</th>\n",
       "      <th>volume</th>\n",
       "      <th>open</th>\n",
       "      <th>high</th>\n",
       "      <th>low</th>\n",
       "      <th>close</th>\n",
       "      <th>volume</th>\n",
       "    </tr>\n",
       "    <tr>\n",
       "      <th>time</th>\n",
       "      <th></th>\n",
       "      <th></th>\n",
       "      <th></th>\n",
       "      <th></th>\n",
       "      <th></th>\n",
       "      <th></th>\n",
       "      <th></th>\n",
       "      <th></th>\n",
       "      <th></th>\n",
       "      <th></th>\n",
       "    </tr>\n",
       "  </thead>\n",
       "  <tbody>\n",
       "    <tr>\n",
       "      <th>2021-07-08 00:00:00-04:00</th>\n",
       "      <td>116.040</td>\n",
       "      <td>116.180</td>\n",
       "      <td>115.9600</td>\n",
       "      <td>116.06</td>\n",
       "      <td>5685583</td>\n",
       "      <td>428.78</td>\n",
       "      <td>431.73</td>\n",
       "      <td>427.520</td>\n",
       "      <td>430.95</td>\n",
       "      <td>83417621</td>\n",
       "    </tr>\n",
       "    <tr>\n",
       "      <th>2021-07-09 00:00:00-04:00</th>\n",
       "      <td>115.735</td>\n",
       "      <td>115.760</td>\n",
       "      <td>115.6900</td>\n",
       "      <td>115.69</td>\n",
       "      <td>4602694</td>\n",
       "      <td>432.53</td>\n",
       "      <td>435.84</td>\n",
       "      <td>430.714</td>\n",
       "      <td>435.48</td>\n",
       "      <td>59254094</td>\n",
       "    </tr>\n",
       "    <tr>\n",
       "      <th>2021-07-12 00:00:00-04:00</th>\n",
       "      <td>115.800</td>\n",
       "      <td>115.805</td>\n",
       "      <td>115.6000</td>\n",
       "      <td>115.63</td>\n",
       "      <td>3184908</td>\n",
       "      <td>435.42</td>\n",
       "      <td>437.35</td>\n",
       "      <td>434.970</td>\n",
       "      <td>437.08</td>\n",
       "      <td>42031814</td>\n",
       "    </tr>\n",
       "    <tr>\n",
       "      <th>2021-07-13 00:00:00-04:00</th>\n",
       "      <td>115.650</td>\n",
       "      <td>115.760</td>\n",
       "      <td>115.3022</td>\n",
       "      <td>115.39</td>\n",
       "      <td>4698374</td>\n",
       "      <td>436.26</td>\n",
       "      <td>437.84</td>\n",
       "      <td>435.310</td>\n",
       "      <td>435.62</td>\n",
       "      <td>45923305</td>\n",
       "    </tr>\n",
       "    <tr>\n",
       "      <th>2021-07-14 00:00:00-04:00</th>\n",
       "      <td>115.590</td>\n",
       "      <td>115.760</td>\n",
       "      <td>115.5690</td>\n",
       "      <td>115.75</td>\n",
       "      <td>3907266</td>\n",
       "      <td>437.39</td>\n",
       "      <td>437.92</td>\n",
       "      <td>434.910</td>\n",
       "      <td>436.22</td>\n",
       "      <td>54445950</td>\n",
       "    </tr>\n",
       "  </tbody>\n",
       "</table>\n",
       "</div>"
      ],
      "text/plain": [
       "                               AGG                                      \\\n",
       "                              open     high       low   close   volume   \n",
       "time                                                                     \n",
       "2021-07-08 00:00:00-04:00  116.040  116.180  115.9600  116.06  5685583   \n",
       "2021-07-09 00:00:00-04:00  115.735  115.760  115.6900  115.69  4602694   \n",
       "2021-07-12 00:00:00-04:00  115.800  115.805  115.6000  115.63  3184908   \n",
       "2021-07-13 00:00:00-04:00  115.650  115.760  115.3022  115.39  4698374   \n",
       "2021-07-14 00:00:00-04:00  115.590  115.760  115.5690  115.75  3907266   \n",
       "\n",
       "                              SPY                                     \n",
       "                             open    high      low   close    volume  \n",
       "time                                                                  \n",
       "2021-07-08 00:00:00-04:00  428.78  431.73  427.520  430.95  83417621  \n",
       "2021-07-09 00:00:00-04:00  432.53  435.84  430.714  435.48  59254094  \n",
       "2021-07-12 00:00:00-04:00  435.42  437.35  434.970  437.08  42031814  \n",
       "2021-07-13 00:00:00-04:00  436.26  437.84  435.310  435.62  45923305  \n",
       "2021-07-14 00:00:00-04:00  437.39  437.92  434.910  436.22  54445950  "
      ]
     },
     "metadata": {},
     "output_type": "display_data"
    }
   ],
   "source": [
    "# Use the Alpaca get_barset function to make the API call to get the 10 years worth of pricing data\n",
    "# The tickers and timeframe parameters should have been set in Part 1 of this activity \n",
    "# The start and end dates should be updated with the information set above\n",
    "# Remember to add the df property to the end of the call so the response is returned as a DataFrame\n",
    "prices_10yrs_df = alpaca.get_barset(\n",
    "    tickers,\n",
    "    timeframe,\n",
    "    start=start_date,\n",
    "    end=end_date,\n",
    ").df\n",
    "\n",
    "\n",
    "# Display both the first and last five rows of the DataFrame\n",
    "display(prices_10yrs_df.head())\n",
    "display(prices_10yrs_df.tail())\n"
   ]
  },
  {
   "cell_type": "markdown",
   "metadata": {},
   "source": [
    "#### Step 2: Run a Monte Carlo simulation of 500 samples and 30 years for the 60/40 portfolio, and then plot the results."
   ]
  },
  {
   "cell_type": "code",
   "execution_count": 104,
   "metadata": {},
   "outputs": [
    {
     "data": {
      "text/html": [
       "<div>\n",
       "<style scoped>\n",
       "    .dataframe tbody tr th:only-of-type {\n",
       "        vertical-align: middle;\n",
       "    }\n",
       "\n",
       "    .dataframe tbody tr th {\n",
       "        vertical-align: top;\n",
       "    }\n",
       "\n",
       "    .dataframe thead tr th {\n",
       "        text-align: left;\n",
       "    }\n",
       "\n",
       "    .dataframe thead tr:last-of-type th {\n",
       "        text-align: right;\n",
       "    }\n",
       "</style>\n",
       "<table border=\"1\" class=\"dataframe\">\n",
       "  <thead>\n",
       "    <tr>\n",
       "      <th></th>\n",
       "      <th colspan=\"6\" halign=\"left\">AGG</th>\n",
       "      <th colspan=\"6\" halign=\"left\">SPY</th>\n",
       "    </tr>\n",
       "    <tr>\n",
       "      <th></th>\n",
       "      <th>open</th>\n",
       "      <th>high</th>\n",
       "      <th>low</th>\n",
       "      <th>close</th>\n",
       "      <th>volume</th>\n",
       "      <th>daily_return</th>\n",
       "      <th>open</th>\n",
       "      <th>high</th>\n",
       "      <th>low</th>\n",
       "      <th>close</th>\n",
       "      <th>volume</th>\n",
       "      <th>daily_return</th>\n",
       "    </tr>\n",
       "    <tr>\n",
       "      <th>time</th>\n",
       "      <th></th>\n",
       "      <th></th>\n",
       "      <th></th>\n",
       "      <th></th>\n",
       "      <th></th>\n",
       "      <th></th>\n",
       "      <th></th>\n",
       "      <th></th>\n",
       "      <th></th>\n",
       "      <th></th>\n",
       "      <th></th>\n",
       "      <th></th>\n",
       "    </tr>\n",
       "  </thead>\n",
       "  <tbody>\n",
       "    <tr>\n",
       "      <th>2021-02-22 00:00:00-05:00</th>\n",
       "      <td>115.76</td>\n",
       "      <td>115.8662</td>\n",
       "      <td>115.4800</td>\n",
       "      <td>115.49</td>\n",
       "      <td>4704520</td>\n",
       "      <td>NaN</td>\n",
       "      <td>387.06</td>\n",
       "      <td>389.620</td>\n",
       "      <td>386.7400</td>\n",
       "      <td>387.11</td>\n",
       "      <td>56604869</td>\n",
       "      <td>NaN</td>\n",
       "    </tr>\n",
       "    <tr>\n",
       "      <th>2021-02-23 00:00:00-05:00</th>\n",
       "      <td>115.75</td>\n",
       "      <td>115.7500</td>\n",
       "      <td>115.2700</td>\n",
       "      <td>115.52</td>\n",
       "      <td>5373535</td>\n",
       "      <td>0.000260</td>\n",
       "      <td>384.66</td>\n",
       "      <td>388.945</td>\n",
       "      <td>380.2000</td>\n",
       "      <td>387.50</td>\n",
       "      <td>98333278</td>\n",
       "      <td>0.001007</td>\n",
       "    </tr>\n",
       "    <tr>\n",
       "      <th>2021-02-24 00:00:00-05:00</th>\n",
       "      <td>115.06</td>\n",
       "      <td>115.5000</td>\n",
       "      <td>115.0100</td>\n",
       "      <td>115.47</td>\n",
       "      <td>6131453</td>\n",
       "      <td>-0.000433</td>\n",
       "      <td>386.33</td>\n",
       "      <td>392.230</td>\n",
       "      <td>385.2700</td>\n",
       "      <td>391.76</td>\n",
       "      <td>64527459</td>\n",
       "      <td>0.010994</td>\n",
       "    </tr>\n",
       "    <tr>\n",
       "      <th>2021-02-25 00:00:00-05:00</th>\n",
       "      <td>115.01</td>\n",
       "      <td>115.2900</td>\n",
       "      <td>114.2000</td>\n",
       "      <td>114.41</td>\n",
       "      <td>14520445</td>\n",
       "      <td>-0.009180</td>\n",
       "      <td>390.41</td>\n",
       "      <td>391.880</td>\n",
       "      <td>380.7789</td>\n",
       "      <td>382.39</td>\n",
       "      <td>137059806</td>\n",
       "      <td>-0.023918</td>\n",
       "    </tr>\n",
       "    <tr>\n",
       "      <th>2021-02-26 00:00:00-05:00</th>\n",
       "      <td>114.96</td>\n",
       "      <td>115.3900</td>\n",
       "      <td>114.5915</td>\n",
       "      <td>115.37</td>\n",
       "      <td>9735524</td>\n",
       "      <td>0.008391</td>\n",
       "      <td>384.35</td>\n",
       "      <td>385.580</td>\n",
       "      <td>378.2300</td>\n",
       "      <td>380.32</td>\n",
       "      <td>134902084</td>\n",
       "      <td>-0.005413</td>\n",
       "    </tr>\n",
       "  </tbody>\n",
       "</table>\n",
       "</div>"
      ],
      "text/plain": [
       "                              AGG                                        \\\n",
       "                             open      high       low   close    volume   \n",
       "time                                                                      \n",
       "2021-02-22 00:00:00-05:00  115.76  115.8662  115.4800  115.49   4704520   \n",
       "2021-02-23 00:00:00-05:00  115.75  115.7500  115.2700  115.52   5373535   \n",
       "2021-02-24 00:00:00-05:00  115.06  115.5000  115.0100  115.47   6131453   \n",
       "2021-02-25 00:00:00-05:00  115.01  115.2900  114.2000  114.41  14520445   \n",
       "2021-02-26 00:00:00-05:00  114.96  115.3900  114.5915  115.37   9735524   \n",
       "\n",
       "                                           SPY                             \\\n",
       "                          daily_return    open     high       low   close   \n",
       "time                                                                        \n",
       "2021-02-22 00:00:00-05:00          NaN  387.06  389.620  386.7400  387.11   \n",
       "2021-02-23 00:00:00-05:00     0.000260  384.66  388.945  380.2000  387.50   \n",
       "2021-02-24 00:00:00-05:00    -0.000433  386.33  392.230  385.2700  391.76   \n",
       "2021-02-25 00:00:00-05:00    -0.009180  390.41  391.880  380.7789  382.39   \n",
       "2021-02-26 00:00:00-05:00     0.008391  384.35  385.580  378.2300  380.32   \n",
       "\n",
       "                                                   \n",
       "                              volume daily_return  \n",
       "time                                               \n",
       "2021-02-22 00:00:00-05:00   56604869          NaN  \n",
       "2021-02-23 00:00:00-05:00   98333278     0.001007  \n",
       "2021-02-24 00:00:00-05:00   64527459     0.010994  \n",
       "2021-02-25 00:00:00-05:00  137059806    -0.023918  \n",
       "2021-02-26 00:00:00-05:00  134902084    -0.005413  "
      ]
     },
     "execution_count": 104,
     "metadata": {},
     "output_type": "execute_result"
    }
   ],
   "source": [
    "# Configure the Monte Carlo simulation to forecast 30 years cumulative returns\n",
    "# The weights should be split 40% to AGG and 60% to SPY.\n",
    "# Run 500 samples.\n",
    "MC_AGG_SPY = MCSimulation(\n",
    "    portfolio_data = prices_10yrs_df,\n",
    "    weights = [.4,.6],\n",
    "    num_simulation = 500,\n",
    "    num_trading_days = 252*30\n",
    ")\n",
    "\n",
    "# Review the simulation input data\n",
    "MC_AGG_SPY.portfolio_data.head()\n"
   ]
  },
  {
   "cell_type": "code",
   "execution_count": 105,
   "metadata": {},
   "outputs": [
    {
     "name": "stdout",
     "output_type": "stream",
     "text": [
      "Running Monte Carlo simulation number 0.\n",
      "Running Monte Carlo simulation number 10.\n",
      "Running Monte Carlo simulation number 20.\n",
      "Running Monte Carlo simulation number 30.\n",
      "Running Monte Carlo simulation number 40.\n",
      "Running Monte Carlo simulation number 50.\n",
      "Running Monte Carlo simulation number 60.\n",
      "Running Monte Carlo simulation number 70.\n",
      "Running Monte Carlo simulation number 80.\n",
      "Running Monte Carlo simulation number 90.\n",
      "Running Monte Carlo simulation number 100.\n",
      "Running Monte Carlo simulation number 110.\n",
      "Running Monte Carlo simulation number 120.\n",
      "Running Monte Carlo simulation number 130.\n",
      "Running Monte Carlo simulation number 140.\n",
      "Running Monte Carlo simulation number 150.\n",
      "Running Monte Carlo simulation number 160.\n",
      "Running Monte Carlo simulation number 170.\n",
      "Running Monte Carlo simulation number 180.\n",
      "Running Monte Carlo simulation number 190.\n",
      "Running Monte Carlo simulation number 200.\n",
      "Running Monte Carlo simulation number 210.\n",
      "Running Monte Carlo simulation number 220.\n",
      "Running Monte Carlo simulation number 230.\n",
      "Running Monte Carlo simulation number 240.\n",
      "Running Monte Carlo simulation number 250.\n",
      "Running Monte Carlo simulation number 260.\n",
      "Running Monte Carlo simulation number 270.\n",
      "Running Monte Carlo simulation number 280.\n",
      "Running Monte Carlo simulation number 290.\n",
      "Running Monte Carlo simulation number 300.\n",
      "Running Monte Carlo simulation number 310.\n",
      "Running Monte Carlo simulation number 320.\n",
      "Running Monte Carlo simulation number 330.\n",
      "Running Monte Carlo simulation number 340.\n",
      "Running Monte Carlo simulation number 350.\n",
      "Running Monte Carlo simulation number 360.\n",
      "Running Monte Carlo simulation number 370.\n",
      "Running Monte Carlo simulation number 380.\n",
      "Running Monte Carlo simulation number 390.\n",
      "Running Monte Carlo simulation number 400.\n",
      "Running Monte Carlo simulation number 410.\n",
      "Running Monte Carlo simulation number 420.\n",
      "Running Monte Carlo simulation number 430.\n",
      "Running Monte Carlo simulation number 440.\n",
      "Running Monte Carlo simulation number 450.\n",
      "Running Monte Carlo simulation number 460.\n",
      "Running Monte Carlo simulation number 470.\n",
      "Running Monte Carlo simulation number 480.\n",
      "Running Monte Carlo simulation number 490.\n"
     ]
    },
    {
     "data": {
      "text/html": [
       "<div>\n",
       "<style scoped>\n",
       "    .dataframe tbody tr th:only-of-type {\n",
       "        vertical-align: middle;\n",
       "    }\n",
       "\n",
       "    .dataframe tbody tr th {\n",
       "        vertical-align: top;\n",
       "    }\n",
       "\n",
       "    .dataframe thead th {\n",
       "        text-align: right;\n",
       "    }\n",
       "</style>\n",
       "<table border=\"1\" class=\"dataframe\">\n",
       "  <thead>\n",
       "    <tr style=\"text-align: right;\">\n",
       "      <th></th>\n",
       "      <th>0</th>\n",
       "      <th>1</th>\n",
       "      <th>2</th>\n",
       "      <th>3</th>\n",
       "      <th>4</th>\n",
       "      <th>5</th>\n",
       "      <th>6</th>\n",
       "      <th>7</th>\n",
       "      <th>8</th>\n",
       "      <th>9</th>\n",
       "      <th>...</th>\n",
       "      <th>490</th>\n",
       "      <th>491</th>\n",
       "      <th>492</th>\n",
       "      <th>493</th>\n",
       "      <th>494</th>\n",
       "      <th>495</th>\n",
       "      <th>496</th>\n",
       "      <th>497</th>\n",
       "      <th>498</th>\n",
       "      <th>499</th>\n",
       "    </tr>\n",
       "  </thead>\n",
       "  <tbody>\n",
       "    <tr>\n",
       "      <th>0</th>\n",
       "      <td>1.000000</td>\n",
       "      <td>1.000000</td>\n",
       "      <td>1.000000</td>\n",
       "      <td>1.000000</td>\n",
       "      <td>1.000000</td>\n",
       "      <td>1.000000</td>\n",
       "      <td>1.000000</td>\n",
       "      <td>1.000000</td>\n",
       "      <td>1.000000</td>\n",
       "      <td>1.000000</td>\n",
       "      <td>...</td>\n",
       "      <td>1.000000</td>\n",
       "      <td>1.000000</td>\n",
       "      <td>1.000000</td>\n",
       "      <td>1.000000</td>\n",
       "      <td>1.000000</td>\n",
       "      <td>1.000000</td>\n",
       "      <td>1.000000</td>\n",
       "      <td>1.000000</td>\n",
       "      <td>1.000000</td>\n",
       "      <td>1.000000</td>\n",
       "    </tr>\n",
       "    <tr>\n",
       "      <th>1</th>\n",
       "      <td>1.000282</td>\n",
       "      <td>1.000553</td>\n",
       "      <td>1.000523</td>\n",
       "      <td>0.992188</td>\n",
       "      <td>0.992967</td>\n",
       "      <td>0.994844</td>\n",
       "      <td>1.002640</td>\n",
       "      <td>1.004011</td>\n",
       "      <td>0.989904</td>\n",
       "      <td>1.002449</td>\n",
       "      <td>...</td>\n",
       "      <td>0.995777</td>\n",
       "      <td>0.995185</td>\n",
       "      <td>1.005140</td>\n",
       "      <td>0.998561</td>\n",
       "      <td>0.998479</td>\n",
       "      <td>0.990971</td>\n",
       "      <td>1.003875</td>\n",
       "      <td>0.994758</td>\n",
       "      <td>1.014527</td>\n",
       "      <td>1.006243</td>\n",
       "    </tr>\n",
       "    <tr>\n",
       "      <th>2</th>\n",
       "      <td>1.003409</td>\n",
       "      <td>1.001418</td>\n",
       "      <td>0.998194</td>\n",
       "      <td>0.992524</td>\n",
       "      <td>0.994211</td>\n",
       "      <td>0.997626</td>\n",
       "      <td>1.004589</td>\n",
       "      <td>1.008433</td>\n",
       "      <td>0.993144</td>\n",
       "      <td>1.009953</td>\n",
       "      <td>...</td>\n",
       "      <td>0.996061</td>\n",
       "      <td>0.991932</td>\n",
       "      <td>1.003791</td>\n",
       "      <td>0.999597</td>\n",
       "      <td>1.001156</td>\n",
       "      <td>1.000685</td>\n",
       "      <td>1.007495</td>\n",
       "      <td>0.991780</td>\n",
       "      <td>1.012386</td>\n",
       "      <td>1.011776</td>\n",
       "    </tr>\n",
       "    <tr>\n",
       "      <th>3</th>\n",
       "      <td>1.003721</td>\n",
       "      <td>1.000045</td>\n",
       "      <td>1.000587</td>\n",
       "      <td>0.989123</td>\n",
       "      <td>0.992286</td>\n",
       "      <td>0.994892</td>\n",
       "      <td>1.008272</td>\n",
       "      <td>1.008296</td>\n",
       "      <td>0.988638</td>\n",
       "      <td>1.005163</td>\n",
       "      <td>...</td>\n",
       "      <td>0.998177</td>\n",
       "      <td>0.989925</td>\n",
       "      <td>1.007996</td>\n",
       "      <td>1.001874</td>\n",
       "      <td>1.006194</td>\n",
       "      <td>0.994663</td>\n",
       "      <td>1.005340</td>\n",
       "      <td>0.997403</td>\n",
       "      <td>1.009238</td>\n",
       "      <td>1.017983</td>\n",
       "    </tr>\n",
       "    <tr>\n",
       "      <th>4</th>\n",
       "      <td>1.014054</td>\n",
       "      <td>1.001081</td>\n",
       "      <td>0.997771</td>\n",
       "      <td>0.990249</td>\n",
       "      <td>0.990848</td>\n",
       "      <td>0.995037</td>\n",
       "      <td>1.006292</td>\n",
       "      <td>1.018068</td>\n",
       "      <td>0.990736</td>\n",
       "      <td>1.009468</td>\n",
       "      <td>...</td>\n",
       "      <td>0.991431</td>\n",
       "      <td>0.999079</td>\n",
       "      <td>1.009772</td>\n",
       "      <td>1.007670</td>\n",
       "      <td>1.008572</td>\n",
       "      <td>0.995133</td>\n",
       "      <td>1.009453</td>\n",
       "      <td>0.991597</td>\n",
       "      <td>1.001307</td>\n",
       "      <td>1.018062</td>\n",
       "    </tr>\n",
       "    <tr>\n",
       "      <th>...</th>\n",
       "      <td>...</td>\n",
       "      <td>...</td>\n",
       "      <td>...</td>\n",
       "      <td>...</td>\n",
       "      <td>...</td>\n",
       "      <td>...</td>\n",
       "      <td>...</td>\n",
       "      <td>...</td>\n",
       "      <td>...</td>\n",
       "      <td>...</td>\n",
       "      <td>...</td>\n",
       "      <td>...</td>\n",
       "      <td>...</td>\n",
       "      <td>...</td>\n",
       "      <td>...</td>\n",
       "      <td>...</td>\n",
       "      <td>...</td>\n",
       "      <td>...</td>\n",
       "      <td>...</td>\n",
       "      <td>...</td>\n",
       "      <td>...</td>\n",
       "    </tr>\n",
       "    <tr>\n",
       "      <th>7556</th>\n",
       "      <td>355.705980</td>\n",
       "      <td>503.392311</td>\n",
       "      <td>144.418751</td>\n",
       "      <td>117.991021</td>\n",
       "      <td>361.832891</td>\n",
       "      <td>249.871201</td>\n",
       "      <td>476.101422</td>\n",
       "      <td>241.124758</td>\n",
       "      <td>342.102460</td>\n",
       "      <td>438.413017</td>\n",
       "      <td>...</td>\n",
       "      <td>228.791390</td>\n",
       "      <td>735.125669</td>\n",
       "      <td>413.685855</td>\n",
       "      <td>191.329418</td>\n",
       "      <td>225.084870</td>\n",
       "      <td>384.343535</td>\n",
       "      <td>418.151269</td>\n",
       "      <td>248.708413</td>\n",
       "      <td>164.902562</td>\n",
       "      <td>267.462101</td>\n",
       "    </tr>\n",
       "    <tr>\n",
       "      <th>7557</th>\n",
       "      <td>357.837362</td>\n",
       "      <td>501.073533</td>\n",
       "      <td>145.279077</td>\n",
       "      <td>117.864086</td>\n",
       "      <td>364.509548</td>\n",
       "      <td>248.100095</td>\n",
       "      <td>479.358731</td>\n",
       "      <td>240.464634</td>\n",
       "      <td>343.590874</td>\n",
       "      <td>442.046916</td>\n",
       "      <td>...</td>\n",
       "      <td>226.357142</td>\n",
       "      <td>730.510516</td>\n",
       "      <td>413.461664</td>\n",
       "      <td>191.896086</td>\n",
       "      <td>224.839816</td>\n",
       "      <td>384.980247</td>\n",
       "      <td>420.573248</td>\n",
       "      <td>249.909419</td>\n",
       "      <td>165.021594</td>\n",
       "      <td>265.733385</td>\n",
       "    </tr>\n",
       "    <tr>\n",
       "      <th>7558</th>\n",
       "      <td>357.329364</td>\n",
       "      <td>505.540603</td>\n",
       "      <td>145.427295</td>\n",
       "      <td>117.760968</td>\n",
       "      <td>364.194885</td>\n",
       "      <td>251.037737</td>\n",
       "      <td>479.915685</td>\n",
       "      <td>241.831217</td>\n",
       "      <td>343.838215</td>\n",
       "      <td>445.911237</td>\n",
       "      <td>...</td>\n",
       "      <td>225.766151</td>\n",
       "      <td>731.571764</td>\n",
       "      <td>414.858089</td>\n",
       "      <td>192.736098</td>\n",
       "      <td>223.635538</td>\n",
       "      <td>383.227073</td>\n",
       "      <td>422.696144</td>\n",
       "      <td>249.562371</td>\n",
       "      <td>164.959552</td>\n",
       "      <td>265.086338</td>\n",
       "    </tr>\n",
       "    <tr>\n",
       "      <th>7559</th>\n",
       "      <td>357.509762</td>\n",
       "      <td>509.565798</td>\n",
       "      <td>144.778578</td>\n",
       "      <td>117.687948</td>\n",
       "      <td>365.911209</td>\n",
       "      <td>253.117026</td>\n",
       "      <td>481.887008</td>\n",
       "      <td>241.341014</td>\n",
       "      <td>343.112736</td>\n",
       "      <td>444.768816</td>\n",
       "      <td>...</td>\n",
       "      <td>225.092472</td>\n",
       "      <td>729.465797</td>\n",
       "      <td>412.734620</td>\n",
       "      <td>192.457626</td>\n",
       "      <td>221.973162</td>\n",
       "      <td>383.310265</td>\n",
       "      <td>422.801264</td>\n",
       "      <td>249.786166</td>\n",
       "      <td>165.709589</td>\n",
       "      <td>265.247341</td>\n",
       "    </tr>\n",
       "    <tr>\n",
       "      <th>7560</th>\n",
       "      <td>359.955433</td>\n",
       "      <td>508.380100</td>\n",
       "      <td>145.071521</td>\n",
       "      <td>117.357616</td>\n",
       "      <td>368.826962</td>\n",
       "      <td>251.537986</td>\n",
       "      <td>483.208732</td>\n",
       "      <td>240.572260</td>\n",
       "      <td>343.410673</td>\n",
       "      <td>448.658949</td>\n",
       "      <td>...</td>\n",
       "      <td>225.348748</td>\n",
       "      <td>728.517230</td>\n",
       "      <td>412.158616</td>\n",
       "      <td>192.283151</td>\n",
       "      <td>223.700012</td>\n",
       "      <td>380.970932</td>\n",
       "      <td>423.464659</td>\n",
       "      <td>250.001280</td>\n",
       "      <td>164.936770</td>\n",
       "      <td>263.470510</td>\n",
       "    </tr>\n",
       "  </tbody>\n",
       "</table>\n",
       "<p>7561 rows × 500 columns</p>\n",
       "</div>"
      ],
      "text/plain": [
       "             0           1           2           3           4           5    \\\n",
       "0       1.000000    1.000000    1.000000    1.000000    1.000000    1.000000   \n",
       "1       1.000282    1.000553    1.000523    0.992188    0.992967    0.994844   \n",
       "2       1.003409    1.001418    0.998194    0.992524    0.994211    0.997626   \n",
       "3       1.003721    1.000045    1.000587    0.989123    0.992286    0.994892   \n",
       "4       1.014054    1.001081    0.997771    0.990249    0.990848    0.995037   \n",
       "...          ...         ...         ...         ...         ...         ...   \n",
       "7556  355.705980  503.392311  144.418751  117.991021  361.832891  249.871201   \n",
       "7557  357.837362  501.073533  145.279077  117.864086  364.509548  248.100095   \n",
       "7558  357.329364  505.540603  145.427295  117.760968  364.194885  251.037737   \n",
       "7559  357.509762  509.565798  144.778578  117.687948  365.911209  253.117026   \n",
       "7560  359.955433  508.380100  145.071521  117.357616  368.826962  251.537986   \n",
       "\n",
       "             6           7           8           9    ...         490  \\\n",
       "0       1.000000    1.000000    1.000000    1.000000  ...    1.000000   \n",
       "1       1.002640    1.004011    0.989904    1.002449  ...    0.995777   \n",
       "2       1.004589    1.008433    0.993144    1.009953  ...    0.996061   \n",
       "3       1.008272    1.008296    0.988638    1.005163  ...    0.998177   \n",
       "4       1.006292    1.018068    0.990736    1.009468  ...    0.991431   \n",
       "...          ...         ...         ...         ...  ...         ...   \n",
       "7556  476.101422  241.124758  342.102460  438.413017  ...  228.791390   \n",
       "7557  479.358731  240.464634  343.590874  442.046916  ...  226.357142   \n",
       "7558  479.915685  241.831217  343.838215  445.911237  ...  225.766151   \n",
       "7559  481.887008  241.341014  343.112736  444.768816  ...  225.092472   \n",
       "7560  483.208732  240.572260  343.410673  448.658949  ...  225.348748   \n",
       "\n",
       "             491         492         493         494         495         496  \\\n",
       "0       1.000000    1.000000    1.000000    1.000000    1.000000    1.000000   \n",
       "1       0.995185    1.005140    0.998561    0.998479    0.990971    1.003875   \n",
       "2       0.991932    1.003791    0.999597    1.001156    1.000685    1.007495   \n",
       "3       0.989925    1.007996    1.001874    1.006194    0.994663    1.005340   \n",
       "4       0.999079    1.009772    1.007670    1.008572    0.995133    1.009453   \n",
       "...          ...         ...         ...         ...         ...         ...   \n",
       "7556  735.125669  413.685855  191.329418  225.084870  384.343535  418.151269   \n",
       "7557  730.510516  413.461664  191.896086  224.839816  384.980247  420.573248   \n",
       "7558  731.571764  414.858089  192.736098  223.635538  383.227073  422.696144   \n",
       "7559  729.465797  412.734620  192.457626  221.973162  383.310265  422.801264   \n",
       "7560  728.517230  412.158616  192.283151  223.700012  380.970932  423.464659   \n",
       "\n",
       "             497         498         499  \n",
       "0       1.000000    1.000000    1.000000  \n",
       "1       0.994758    1.014527    1.006243  \n",
       "2       0.991780    1.012386    1.011776  \n",
       "3       0.997403    1.009238    1.017983  \n",
       "4       0.991597    1.001307    1.018062  \n",
       "...          ...         ...         ...  \n",
       "7556  248.708413  164.902562  267.462101  \n",
       "7557  249.909419  165.021594  265.733385  \n",
       "7558  249.562371  164.959552  265.086338  \n",
       "7559  249.786166  165.709589  265.247341  \n",
       "7560  250.001280  164.936770  263.470510  \n",
       "\n",
       "[7561 rows x 500 columns]"
      ]
     },
     "execution_count": 105,
     "metadata": {},
     "output_type": "execute_result"
    }
   ],
   "source": [
    "# Run the Monte Carlo simulation to forecast 30 years cumulative returns\n",
    "MC_AGG_SPY.calc_cumulative_return()\n"
   ]
  },
  {
   "cell_type": "code",
   "execution_count": 106,
   "metadata": {},
   "outputs": [
    {
     "data": {
      "image/png": "[encoded data removed]",
      "text/plain": [
       "<Figure size 432x288 with 1 Axes>"
      ]
     },
     "metadata": {
      "needs_background": "light"
     },
     "output_type": "display_data"
    }
   ],
   "source": [
    "# Visualize the 30-year Monte Carlo simulation by creating an\n",
    "# overlay line plot\n",
    "overlay_line_plot = MC_AGG_SPY.plot_simulation()\n"
   ]
  },
  {
   "cell_type": "markdown",
   "metadata": {},
   "source": [
    "#### Step 3: Plot the probability distribution of the Monte Carlo simulation."
   ]
  },
  {
   "cell_type": "code",
   "execution_count": 107,
   "metadata": {},
   "outputs": [
    {
     "data": {
      "image/png": "[encoded data removed]",
      "text/plain": [
       "<Figure size 432x288 with 1 Axes>"
      ]
     },
     "metadata": {
      "needs_background": "light"
     },
     "output_type": "display_data"
    }
   ],
   "source": [
    "# Visualize the probability distribution of the 30-year Monte Carlo simulation \n",
    "# by plotting a histogram\n",
    "distribution_plot = MC_AGG_SPY.plot_distribution()\n"
   ]
  },
  {
   "cell_type": "markdown",
   "metadata": {},
   "source": [
    "#### Step 4: Generate the summary statistics for the Monte Carlo simulation."
   ]
  },
  {
   "cell_type": "code",
   "execution_count": 108,
   "metadata": {},
   "outputs": [
    {
     "name": "stdout",
     "output_type": "stream",
     "text": [
      "count            500.000000\n",
      "mean             298.141759\n",
      "std              135.375336\n",
      "min               70.661774\n",
      "25%              199.574145\n",
      "50%              274.394104\n",
      "75%              366.026978\n",
      "max             1090.656005\n",
      "95% CI Lower     118.343004\n",
      "95% CI Upper     648.069370\n",
      "Name: 7560, dtype: float64\n"
     ]
    }
   ],
   "source": [
    "# Generate summary statistics from the 30-year Monte Carlo simulation results\n",
    "# Save the results as a variable\n",
    "summary_table = MC_AGG_SPY.summarize_cumulative_return()\n",
    "\n",
    "\n",
    "# Review the 30-year Monte Carlo summary statistics\n",
    "print(summary_table)"
   ]
  },
  {
   "cell_type": "markdown",
   "metadata": {},
   "source": [
    "### Analyze the Retirement Portfolio Forecasts\n",
    "\n",
    "Using the current value of only the stock and bond portion of the member's portfolio and the summary statistics that you generated from the Monte Carlo simulation, answer the following question in your Jupyter notebook:\n",
    "\n",
    "-  What are the lower and upper bounds for the expected value of the portfolio with a 95% confidence interval?\n"
   ]
  },
  {
   "cell_type": "code",
   "execution_count": 117,
   "metadata": {},
   "outputs": [
    {
     "name": "stdout",
     "output_type": "stream",
     "text": [
      "The current balance of the stock and bond portfolio is $71,134.20\n"
     ]
    }
   ],
   "source": [
    "# Print the current balance of the stock and bond portion of the members portfolio\n",
    "total_stocks_bonds = agg_value + spy_value\n",
    "print(f\"The current balance of the stock and bond portfolio is ${total_stocks_bonds:,.2f}\")\n"
   ]
  },
  {
   "cell_type": "code",
   "execution_count": 138,
   "metadata": {},
   "outputs": [
    {
     "name": "stdout",
     "output_type": "stream",
     "text": [
      "There is a 95% chance that the stock and bond portfolio in 30 years will be worth in the range of $8,418,234.93 and $46,099,896.15.\n"
     ]
    }
   ],
   "source": [
    "# Use the lower and upper `95%` confidence intervals to calculate the range of the possible outcomes for the current stock/bond portfolio\n",
    "ci_lower_thirty_cumulative_return = total_stocks_bonds * summary_table[8]\n",
    "ci_upper_thirty_cumulative_return = total_stocks_bonds * summary_table[9]\n",
    "\n",
    "# Print the result of your calculations\n",
    "print(f\"There is a 95% chance that the stock and bond portfolio in 30 years will be worth in the \"\n",
    "      f\"range of ${ci_lower_thirty_cumulative_return:,.2f} and ${ci_upper_thirty_cumulative_return:,.2f}.\")\n"
   ]
  },
  {
   "cell_type": "markdown",
   "metadata": {},
   "source": [
    "### Forecast Cumulative Returns in 10 Years\n",
    "\n",
    "The CTO of the credit union is impressed with your work on these planning tools but wonders if 30 years is a long time to wait until retirement. So, your next task is to adjust the retirement portfolio and run a new Monte Carlo simulation to find out if the changes will allow members to retire earlier.\n",
    "\n",
    "For this new Monte Carlo simulation, do the following: \n",
    "\n",
    "- Forecast the cumulative returns for 10 years from now. Because of the shortened investment horizon (30 years to 10 years), the portfolio needs to invest more heavily in the riskier asset&mdash;that is, stock&mdash;to help accumulate wealth for retirement. \n",
    "\n",
    "- Adjust the weights of the retirement portfolio so that the composition for the Monte Carlo simulation consists of 20% bonds and 80% stocks. \n",
    "\n",
    "- Run the simulation over 500 samples, and use the same data that the API call to Alpaca generated.\n",
    "\n",
    "- Based on the new Monte Carlo simulation, answer the following questions in your Jupyter notebook:\n",
    "\n",
    "    - Using the current value of only the stock and bond portion of the member's portfolio and the summary statistics that you generated from the new Monte Carlo simulation, what are the lower and upper bounds for the expected value of the portfolio (with the new weights) with a 95% confidence interval?\n",
    "\n",
    "    - Will weighting the portfolio more heavily toward stocks allow the credit union members to retire after only 10 years?\n"
   ]
  },
  {
   "cell_type": "code",
   "execution_count": 133,
   "metadata": {},
   "outputs": [
    {
     "data": {
      "text/html": [
       "<div>\n",
       "<style scoped>\n",
       "    .dataframe tbody tr th:only-of-type {\n",
       "        vertical-align: middle;\n",
       "    }\n",
       "\n",
       "    .dataframe tbody tr th {\n",
       "        vertical-align: top;\n",
       "    }\n",
       "\n",
       "    .dataframe thead tr th {\n",
       "        text-align: left;\n",
       "    }\n",
       "\n",
       "    .dataframe thead tr:last-of-type th {\n",
       "        text-align: right;\n",
       "    }\n",
       "</style>\n",
       "<table border=\"1\" class=\"dataframe\">\n",
       "  <thead>\n",
       "    <tr>\n",
       "      <th></th>\n",
       "      <th colspan=\"6\" halign=\"left\">AGG</th>\n",
       "      <th colspan=\"6\" halign=\"left\">SPY</th>\n",
       "    </tr>\n",
       "    <tr>\n",
       "      <th></th>\n",
       "      <th>open</th>\n",
       "      <th>high</th>\n",
       "      <th>low</th>\n",
       "      <th>close</th>\n",
       "      <th>volume</th>\n",
       "      <th>daily_return</th>\n",
       "      <th>open</th>\n",
       "      <th>high</th>\n",
       "      <th>low</th>\n",
       "      <th>close</th>\n",
       "      <th>volume</th>\n",
       "      <th>daily_return</th>\n",
       "    </tr>\n",
       "    <tr>\n",
       "      <th>time</th>\n",
       "      <th></th>\n",
       "      <th></th>\n",
       "      <th></th>\n",
       "      <th></th>\n",
       "      <th></th>\n",
       "      <th></th>\n",
       "      <th></th>\n",
       "      <th></th>\n",
       "      <th></th>\n",
       "      <th></th>\n",
       "      <th></th>\n",
       "      <th></th>\n",
       "    </tr>\n",
       "  </thead>\n",
       "  <tbody>\n",
       "    <tr>\n",
       "      <th>2021-02-22 00:00:00-05:00</th>\n",
       "      <td>115.76</td>\n",
       "      <td>115.8662</td>\n",
       "      <td>115.4800</td>\n",
       "      <td>115.49</td>\n",
       "      <td>4704520</td>\n",
       "      <td>NaN</td>\n",
       "      <td>387.06</td>\n",
       "      <td>389.620</td>\n",
       "      <td>386.7400</td>\n",
       "      <td>387.11</td>\n",
       "      <td>56604869</td>\n",
       "      <td>NaN</td>\n",
       "    </tr>\n",
       "    <tr>\n",
       "      <th>2021-02-23 00:00:00-05:00</th>\n",
       "      <td>115.75</td>\n",
       "      <td>115.7500</td>\n",
       "      <td>115.2700</td>\n",
       "      <td>115.52</td>\n",
       "      <td>5373535</td>\n",
       "      <td>0.000260</td>\n",
       "      <td>384.66</td>\n",
       "      <td>388.945</td>\n",
       "      <td>380.2000</td>\n",
       "      <td>387.50</td>\n",
       "      <td>98333278</td>\n",
       "      <td>0.001007</td>\n",
       "    </tr>\n",
       "    <tr>\n",
       "      <th>2021-02-24 00:00:00-05:00</th>\n",
       "      <td>115.06</td>\n",
       "      <td>115.5000</td>\n",
       "      <td>115.0100</td>\n",
       "      <td>115.47</td>\n",
       "      <td>6131453</td>\n",
       "      <td>-0.000433</td>\n",
       "      <td>386.33</td>\n",
       "      <td>392.230</td>\n",
       "      <td>385.2700</td>\n",
       "      <td>391.76</td>\n",
       "      <td>64527459</td>\n",
       "      <td>0.010994</td>\n",
       "    </tr>\n",
       "    <tr>\n",
       "      <th>2021-02-25 00:00:00-05:00</th>\n",
       "      <td>115.01</td>\n",
       "      <td>115.2900</td>\n",
       "      <td>114.2000</td>\n",
       "      <td>114.41</td>\n",
       "      <td>14520445</td>\n",
       "      <td>-0.009180</td>\n",
       "      <td>390.41</td>\n",
       "      <td>391.880</td>\n",
       "      <td>380.7789</td>\n",
       "      <td>382.39</td>\n",
       "      <td>137059806</td>\n",
       "      <td>-0.023918</td>\n",
       "    </tr>\n",
       "    <tr>\n",
       "      <th>2021-02-26 00:00:00-05:00</th>\n",
       "      <td>114.96</td>\n",
       "      <td>115.3900</td>\n",
       "      <td>114.5915</td>\n",
       "      <td>115.37</td>\n",
       "      <td>9735524</td>\n",
       "      <td>0.008391</td>\n",
       "      <td>384.35</td>\n",
       "      <td>385.580</td>\n",
       "      <td>378.2300</td>\n",
       "      <td>380.32</td>\n",
       "      <td>134902084</td>\n",
       "      <td>-0.005413</td>\n",
       "    </tr>\n",
       "  </tbody>\n",
       "</table>\n",
       "</div>"
      ],
      "text/plain": [
       "                              AGG                                        \\\n",
       "                             open      high       low   close    volume   \n",
       "time                                                                      \n",
       "2021-02-22 00:00:00-05:00  115.76  115.8662  115.4800  115.49   4704520   \n",
       "2021-02-23 00:00:00-05:00  115.75  115.7500  115.2700  115.52   5373535   \n",
       "2021-02-24 00:00:00-05:00  115.06  115.5000  115.0100  115.47   6131453   \n",
       "2021-02-25 00:00:00-05:00  115.01  115.2900  114.2000  114.41  14520445   \n",
       "2021-02-26 00:00:00-05:00  114.96  115.3900  114.5915  115.37   9735524   \n",
       "\n",
       "                                           SPY                             \\\n",
       "                          daily_return    open     high       low   close   \n",
       "time                                                                        \n",
       "2021-02-22 00:00:00-05:00          NaN  387.06  389.620  386.7400  387.11   \n",
       "2021-02-23 00:00:00-05:00     0.000260  384.66  388.945  380.2000  387.50   \n",
       "2021-02-24 00:00:00-05:00    -0.000433  386.33  392.230  385.2700  391.76   \n",
       "2021-02-25 00:00:00-05:00    -0.009180  390.41  391.880  380.7789  382.39   \n",
       "2021-02-26 00:00:00-05:00     0.008391  384.35  385.580  378.2300  380.32   \n",
       "\n",
       "                                                   \n",
       "                              volume daily_return  \n",
       "time                                               \n",
       "2021-02-22 00:00:00-05:00   56604869          NaN  \n",
       "2021-02-23 00:00:00-05:00   98333278     0.001007  \n",
       "2021-02-24 00:00:00-05:00   64527459     0.010994  \n",
       "2021-02-25 00:00:00-05:00  137059806    -0.023918  \n",
       "2021-02-26 00:00:00-05:00  134902084    -0.005413  "
      ]
     },
     "execution_count": 133,
     "metadata": {},
     "output_type": "execute_result"
    }
   ],
   "source": [
    "# Configure a Monte Carlo simulation to forecast 10 years cumulative returns\n",
    "# The weights should be split 20% to AGG and 80% to SPY.\n",
    "# Run 500 samples.\n",
    "MC_AGG_SPY_10yrs = MCSimulation(\n",
    "    portfolio_data = prices_10yrs_df,\n",
    "    weights = [.2,.8],\n",
    "    num_simulation = 500,\n",
    "    num_trading_days = 252*10\n",
    ")\n",
    "\n",
    "# Review the simulation input data\n",
    "MC_AGG_SPY_10yrs.portfolio_data.head()\n"
   ]
  },
  {
   "cell_type": "code",
   "execution_count": 134,
   "metadata": {},
   "outputs": [
    {
     "name": "stdout",
     "output_type": "stream",
     "text": [
      "Running Monte Carlo simulation number 0.\n",
      "Running Monte Carlo simulation number 10.\n",
      "Running Monte Carlo simulation number 20.\n",
      "Running Monte Carlo simulation number 30.\n",
      "Running Monte Carlo simulation number 40.\n",
      "Running Monte Carlo simulation number 50.\n",
      "Running Monte Carlo simulation number 60.\n",
      "Running Monte Carlo simulation number 70.\n",
      "Running Monte Carlo simulation number 80.\n",
      "Running Monte Carlo simulation number 90.\n",
      "Running Monte Carlo simulation number 100.\n",
      "Running Monte Carlo simulation number 110.\n",
      "Running Monte Carlo simulation number 120.\n",
      "Running Monte Carlo simulation number 130.\n",
      "Running Monte Carlo simulation number 140.\n",
      "Running Monte Carlo simulation number 150.\n",
      "Running Monte Carlo simulation number 160.\n",
      "Running Monte Carlo simulation number 170.\n",
      "Running Monte Carlo simulation number 180.\n",
      "Running Monte Carlo simulation number 190.\n",
      "Running Monte Carlo simulation number 200.\n",
      "Running Monte Carlo simulation number 210.\n",
      "Running Monte Carlo simulation number 220.\n",
      "Running Monte Carlo simulation number 230.\n",
      "Running Monte Carlo simulation number 240.\n",
      "Running Monte Carlo simulation number 250.\n",
      "Running Monte Carlo simulation number 260.\n",
      "Running Monte Carlo simulation number 270.\n",
      "Running Monte Carlo simulation number 280.\n",
      "Running Monte Carlo simulation number 290.\n",
      "Running Monte Carlo simulation number 300.\n",
      "Running Monte Carlo simulation number 310.\n",
      "Running Monte Carlo simulation number 320.\n",
      "Running Monte Carlo simulation number 330.\n",
      "Running Monte Carlo simulation number 340.\n",
      "Running Monte Carlo simulation number 350.\n",
      "Running Monte Carlo simulation number 360.\n",
      "Running Monte Carlo simulation number 370.\n",
      "Running Monte Carlo simulation number 380.\n",
      "Running Monte Carlo simulation number 390.\n",
      "Running Monte Carlo simulation number 400.\n",
      "Running Monte Carlo simulation number 410.\n",
      "Running Monte Carlo simulation number 420.\n",
      "Running Monte Carlo simulation number 430.\n",
      "Running Monte Carlo simulation number 440.\n",
      "Running Monte Carlo simulation number 450.\n",
      "Running Monte Carlo simulation number 460.\n",
      "Running Monte Carlo simulation number 470.\n",
      "Running Monte Carlo simulation number 480.\n",
      "Running Monte Carlo simulation number 490.\n"
     ]
    },
    {
     "data": {
      "text/html": [
       "<div>\n",
       "<style scoped>\n",
       "    .dataframe tbody tr th:only-of-type {\n",
       "        vertical-align: middle;\n",
       "    }\n",
       "\n",
       "    .dataframe tbody tr th {\n",
       "        vertical-align: top;\n",
       "    }\n",
       "\n",
       "    .dataframe thead th {\n",
       "        text-align: right;\n",
       "    }\n",
       "</style>\n",
       "<table border=\"1\" class=\"dataframe\">\n",
       "  <thead>\n",
       "    <tr style=\"text-align: right;\">\n",
       "      <th></th>\n",
       "      <th>0</th>\n",
       "      <th>1</th>\n",
       "      <th>2</th>\n",
       "      <th>3</th>\n",
       "      <th>4</th>\n",
       "      <th>5</th>\n",
       "      <th>6</th>\n",
       "      <th>7</th>\n",
       "      <th>8</th>\n",
       "      <th>9</th>\n",
       "      <th>...</th>\n",
       "      <th>490</th>\n",
       "      <th>491</th>\n",
       "      <th>492</th>\n",
       "      <th>493</th>\n",
       "      <th>494</th>\n",
       "      <th>495</th>\n",
       "      <th>496</th>\n",
       "      <th>497</th>\n",
       "      <th>498</th>\n",
       "      <th>499</th>\n",
       "    </tr>\n",
       "  </thead>\n",
       "  <tbody>\n",
       "    <tr>\n",
       "      <th>0</th>\n",
       "      <td>1.000000</td>\n",
       "      <td>1.000000</td>\n",
       "      <td>1.000000</td>\n",
       "      <td>1.000000</td>\n",
       "      <td>1.000000</td>\n",
       "      <td>1.000000</td>\n",
       "      <td>1.000000</td>\n",
       "      <td>1.000000</td>\n",
       "      <td>1.000000</td>\n",
       "      <td>1.000000</td>\n",
       "      <td>...</td>\n",
       "      <td>1.000000</td>\n",
       "      <td>1.000000</td>\n",
       "      <td>1.000000</td>\n",
       "      <td>1.000000</td>\n",
       "      <td>1.000000</td>\n",
       "      <td>1.000000</td>\n",
       "      <td>1.000000</td>\n",
       "      <td>1.000000</td>\n",
       "      <td>1.000000</td>\n",
       "      <td>1.000000</td>\n",
       "    </tr>\n",
       "    <tr>\n",
       "      <th>1</th>\n",
       "      <td>1.008698</td>\n",
       "      <td>1.006387</td>\n",
       "      <td>0.996546</td>\n",
       "      <td>1.000069</td>\n",
       "      <td>1.003294</td>\n",
       "      <td>0.991305</td>\n",
       "      <td>0.987369</td>\n",
       "      <td>0.995707</td>\n",
       "      <td>1.015812</td>\n",
       "      <td>1.006762</td>\n",
       "      <td>...</td>\n",
       "      <td>0.994380</td>\n",
       "      <td>1.012421</td>\n",
       "      <td>0.993490</td>\n",
       "      <td>0.998887</td>\n",
       "      <td>1.001380</td>\n",
       "      <td>1.003218</td>\n",
       "      <td>0.999572</td>\n",
       "      <td>0.996888</td>\n",
       "      <td>1.006161</td>\n",
       "      <td>1.003600</td>\n",
       "    </tr>\n",
       "    <tr>\n",
       "      <th>2</th>\n",
       "      <td>1.023609</td>\n",
       "      <td>1.007217</td>\n",
       "      <td>0.990418</td>\n",
       "      <td>0.993464</td>\n",
       "      <td>1.006674</td>\n",
       "      <td>0.989330</td>\n",
       "      <td>0.988625</td>\n",
       "      <td>1.001387</td>\n",
       "      <td>1.015904</td>\n",
       "      <td>1.013187</td>\n",
       "      <td>...</td>\n",
       "      <td>0.993909</td>\n",
       "      <td>1.015931</td>\n",
       "      <td>0.991686</td>\n",
       "      <td>1.000036</td>\n",
       "      <td>0.999400</td>\n",
       "      <td>0.995525</td>\n",
       "      <td>0.995459</td>\n",
       "      <td>0.992923</td>\n",
       "      <td>1.013941</td>\n",
       "      <td>0.995922</td>\n",
       "    </tr>\n",
       "    <tr>\n",
       "      <th>3</th>\n",
       "      <td>1.029008</td>\n",
       "      <td>1.007856</td>\n",
       "      <td>0.984048</td>\n",
       "      <td>0.986296</td>\n",
       "      <td>1.016694</td>\n",
       "      <td>0.993037</td>\n",
       "      <td>0.985607</td>\n",
       "      <td>1.002253</td>\n",
       "      <td>1.011258</td>\n",
       "      <td>1.011837</td>\n",
       "      <td>...</td>\n",
       "      <td>0.992817</td>\n",
       "      <td>1.009022</td>\n",
       "      <td>1.000297</td>\n",
       "      <td>0.997450</td>\n",
       "      <td>0.998393</td>\n",
       "      <td>0.995794</td>\n",
       "      <td>0.987301</td>\n",
       "      <td>0.996837</td>\n",
       "      <td>1.001460</td>\n",
       "      <td>1.002497</td>\n",
       "    </tr>\n",
       "    <tr>\n",
       "      <th>4</th>\n",
       "      <td>1.022881</td>\n",
       "      <td>1.014260</td>\n",
       "      <td>0.970612</td>\n",
       "      <td>0.994375</td>\n",
       "      <td>1.016913</td>\n",
       "      <td>1.000056</td>\n",
       "      <td>0.990480</td>\n",
       "      <td>1.011191</td>\n",
       "      <td>1.014487</td>\n",
       "      <td>1.010356</td>\n",
       "      <td>...</td>\n",
       "      <td>0.985946</td>\n",
       "      <td>1.011678</td>\n",
       "      <td>0.993330</td>\n",
       "      <td>1.006753</td>\n",
       "      <td>1.001604</td>\n",
       "      <td>1.004933</td>\n",
       "      <td>0.997047</td>\n",
       "      <td>0.991597</td>\n",
       "      <td>1.007252</td>\n",
       "      <td>1.009812</td>\n",
       "    </tr>\n",
       "    <tr>\n",
       "      <th>...</th>\n",
       "      <td>...</td>\n",
       "      <td>...</td>\n",
       "      <td>...</td>\n",
       "      <td>...</td>\n",
       "      <td>...</td>\n",
       "      <td>...</td>\n",
       "      <td>...</td>\n",
       "      <td>...</td>\n",
       "      <td>...</td>\n",
       "      <td>...</td>\n",
       "      <td>...</td>\n",
       "      <td>...</td>\n",
       "      <td>...</td>\n",
       "      <td>...</td>\n",
       "      <td>...</td>\n",
       "      <td>...</td>\n",
       "      <td>...</td>\n",
       "      <td>...</td>\n",
       "      <td>...</td>\n",
       "      <td>...</td>\n",
       "      <td>...</td>\n",
       "    </tr>\n",
       "    <tr>\n",
       "      <th>2516</th>\n",
       "      <td>16.878288</td>\n",
       "      <td>18.513808</td>\n",
       "      <td>9.706859</td>\n",
       "      <td>8.050290</td>\n",
       "      <td>19.170417</td>\n",
       "      <td>13.746831</td>\n",
       "      <td>24.199048</td>\n",
       "      <td>13.160569</td>\n",
       "      <td>6.744695</td>\n",
       "      <td>13.640570</td>\n",
       "      <td>...</td>\n",
       "      <td>13.231127</td>\n",
       "      <td>11.449654</td>\n",
       "      <td>10.122933</td>\n",
       "      <td>10.360159</td>\n",
       "      <td>10.585014</td>\n",
       "      <td>19.302614</td>\n",
       "      <td>19.664967</td>\n",
       "      <td>9.986798</td>\n",
       "      <td>12.814366</td>\n",
       "      <td>11.895029</td>\n",
       "    </tr>\n",
       "    <tr>\n",
       "      <th>2517</th>\n",
       "      <td>16.888583</td>\n",
       "      <td>18.477556</td>\n",
       "      <td>9.715180</td>\n",
       "      <td>8.100147</td>\n",
       "      <td>19.140629</td>\n",
       "      <td>13.744756</td>\n",
       "      <td>24.091636</td>\n",
       "      <td>13.190404</td>\n",
       "      <td>6.829378</td>\n",
       "      <td>13.654635</td>\n",
       "      <td>...</td>\n",
       "      <td>13.164759</td>\n",
       "      <td>11.536355</td>\n",
       "      <td>10.024091</td>\n",
       "      <td>10.296659</td>\n",
       "      <td>10.432221</td>\n",
       "      <td>19.363882</td>\n",
       "      <td>19.474029</td>\n",
       "      <td>9.902221</td>\n",
       "      <td>12.710446</td>\n",
       "      <td>11.961395</td>\n",
       "    </tr>\n",
       "    <tr>\n",
       "      <th>2518</th>\n",
       "      <td>16.936904</td>\n",
       "      <td>18.455310</td>\n",
       "      <td>9.714533</td>\n",
       "      <td>8.162904</td>\n",
       "      <td>18.959372</td>\n",
       "      <td>13.709848</td>\n",
       "      <td>24.146986</td>\n",
       "      <td>13.321519</td>\n",
       "      <td>6.796921</td>\n",
       "      <td>13.889828</td>\n",
       "      <td>...</td>\n",
       "      <td>13.263854</td>\n",
       "      <td>11.556813</td>\n",
       "      <td>9.977316</td>\n",
       "      <td>10.286406</td>\n",
       "      <td>10.499947</td>\n",
       "      <td>19.347549</td>\n",
       "      <td>19.439832</td>\n",
       "      <td>9.991885</td>\n",
       "      <td>12.741519</td>\n",
       "      <td>11.897141</td>\n",
       "    </tr>\n",
       "    <tr>\n",
       "      <th>2519</th>\n",
       "      <td>16.848764</td>\n",
       "      <td>18.363411</td>\n",
       "      <td>9.709930</td>\n",
       "      <td>8.211927</td>\n",
       "      <td>18.972932</td>\n",
       "      <td>13.689222</td>\n",
       "      <td>24.154216</td>\n",
       "      <td>13.339392</td>\n",
       "      <td>6.769972</td>\n",
       "      <td>14.059764</td>\n",
       "      <td>...</td>\n",
       "      <td>13.241655</td>\n",
       "      <td>11.752793</td>\n",
       "      <td>10.074231</td>\n",
       "      <td>10.396997</td>\n",
       "      <td>10.560104</td>\n",
       "      <td>19.264492</td>\n",
       "      <td>19.702570</td>\n",
       "      <td>10.025155</td>\n",
       "      <td>12.704873</td>\n",
       "      <td>11.745731</td>\n",
       "    </tr>\n",
       "    <tr>\n",
       "      <th>2520</th>\n",
       "      <td>16.996775</td>\n",
       "      <td>18.248563</td>\n",
       "      <td>9.831970</td>\n",
       "      <td>8.222559</td>\n",
       "      <td>19.223531</td>\n",
       "      <td>13.555093</td>\n",
       "      <td>24.046435</td>\n",
       "      <td>13.244271</td>\n",
       "      <td>6.759550</td>\n",
       "      <td>14.093610</td>\n",
       "      <td>...</td>\n",
       "      <td>13.186447</td>\n",
       "      <td>11.686425</td>\n",
       "      <td>9.838407</td>\n",
       "      <td>10.429139</td>\n",
       "      <td>10.618620</td>\n",
       "      <td>19.261557</td>\n",
       "      <td>19.742884</td>\n",
       "      <td>9.995169</td>\n",
       "      <td>12.684092</td>\n",
       "      <td>11.828488</td>\n",
       "    </tr>\n",
       "  </tbody>\n",
       "</table>\n",
       "<p>2521 rows × 500 columns</p>\n",
       "</div>"
      ],
      "text/plain": [
       "            0          1         2         3          4          5    \\\n",
       "0      1.000000   1.000000  1.000000  1.000000   1.000000   1.000000   \n",
       "1      1.008698   1.006387  0.996546  1.000069   1.003294   0.991305   \n",
       "2      1.023609   1.007217  0.990418  0.993464   1.006674   0.989330   \n",
       "3      1.029008   1.007856  0.984048  0.986296   1.016694   0.993037   \n",
       "4      1.022881   1.014260  0.970612  0.994375   1.016913   1.000056   \n",
       "...         ...        ...       ...       ...        ...        ...   \n",
       "2516  16.878288  18.513808  9.706859  8.050290  19.170417  13.746831   \n",
       "2517  16.888583  18.477556  9.715180  8.100147  19.140629  13.744756   \n",
       "2518  16.936904  18.455310  9.714533  8.162904  18.959372  13.709848   \n",
       "2519  16.848764  18.363411  9.709930  8.211927  18.972932  13.689222   \n",
       "2520  16.996775  18.248563  9.831970  8.222559  19.223531  13.555093   \n",
       "\n",
       "            6          7         8          9    ...        490        491  \\\n",
       "0      1.000000   1.000000  1.000000   1.000000  ...   1.000000   1.000000   \n",
       "1      0.987369   0.995707  1.015812   1.006762  ...   0.994380   1.012421   \n",
       "2      0.988625   1.001387  1.015904   1.013187  ...   0.993909   1.015931   \n",
       "3      0.985607   1.002253  1.011258   1.011837  ...   0.992817   1.009022   \n",
       "4      0.990480   1.011191  1.014487   1.010356  ...   0.985946   1.011678   \n",
       "...         ...        ...       ...        ...  ...        ...        ...   \n",
       "2516  24.199048  13.160569  6.744695  13.640570  ...  13.231127  11.449654   \n",
       "2517  24.091636  13.190404  6.829378  13.654635  ...  13.164759  11.536355   \n",
       "2518  24.146986  13.321519  6.796921  13.889828  ...  13.263854  11.556813   \n",
       "2519  24.154216  13.339392  6.769972  14.059764  ...  13.241655  11.752793   \n",
       "2520  24.046435  13.244271  6.759550  14.093610  ...  13.186447  11.686425   \n",
       "\n",
       "            492        493        494        495        496        497  \\\n",
       "0      1.000000   1.000000   1.000000   1.000000   1.000000   1.000000   \n",
       "1      0.993490   0.998887   1.001380   1.003218   0.999572   0.996888   \n",
       "2      0.991686   1.000036   0.999400   0.995525   0.995459   0.992923   \n",
       "3      1.000297   0.997450   0.998393   0.995794   0.987301   0.996837   \n",
       "4      0.993330   1.006753   1.001604   1.004933   0.997047   0.991597   \n",
       "...         ...        ...        ...        ...        ...        ...   \n",
       "2516  10.122933  10.360159  10.585014  19.302614  19.664967   9.986798   \n",
       "2517  10.024091  10.296659  10.432221  19.363882  19.474029   9.902221   \n",
       "2518   9.977316  10.286406  10.499947  19.347549  19.439832   9.991885   \n",
       "2519  10.074231  10.396997  10.560104  19.264492  19.702570  10.025155   \n",
       "2520   9.838407  10.429139  10.618620  19.261557  19.742884   9.995169   \n",
       "\n",
       "            498        499  \n",
       "0      1.000000   1.000000  \n",
       "1      1.006161   1.003600  \n",
       "2      1.013941   0.995922  \n",
       "3      1.001460   1.002497  \n",
       "4      1.007252   1.009812  \n",
       "...         ...        ...  \n",
       "2516  12.814366  11.895029  \n",
       "2517  12.710446  11.961395  \n",
       "2518  12.741519  11.897141  \n",
       "2519  12.704873  11.745731  \n",
       "2520  12.684092  11.828488  \n",
       "\n",
       "[2521 rows x 500 columns]"
      ]
     },
     "execution_count": 134,
     "metadata": {},
     "output_type": "execute_result"
    }
   ],
   "source": [
    "# Run the Monte Carlo simulation to forecast 10 years cumulative returns\n",
    "MC_AGG_SPY_10yrs.calc_cumulative_return()\n"
   ]
  },
  {
   "cell_type": "code",
   "execution_count": 135,
   "metadata": {},
   "outputs": [
    {
     "data": {
      "image/png": "[encoded data removed]",
      "text/plain": [
       "<Figure size 432x288 with 1 Axes>"
      ]
     },
     "metadata": {
      "needs_background": "light"
     },
     "output_type": "display_data"
    }
   ],
   "source": [
    "# Visualize the 10-year Monte Carlo simulation by creating an\n",
    "# overlay line plot\n",
    "overlay_line_plot_10yrs = MC_AGG_SPY_10yrs.plot_simulation()\n"
   ]
  },
  {
   "cell_type": "code",
   "execution_count": 136,
   "metadata": {},
   "outputs": [
    {
     "data": {
      "image/png": "[encoded data removed]",
      "text/plain": [
       "<Figure size 432x288 with 1 Axes>"
      ]
     },
     "metadata": {
      "needs_background": "light"
     },
     "output_type": "display_data"
    }
   ],
   "source": [
    "# Visualize the probability distribution of the 10-year Monte Carlo simulation \n",
    "# by plotting a histogram\n",
    "distribution_plot_10yrs = MC_AGG_SPY_10yrs.plot_distribution()\n"
   ]
  },
  {
   "cell_type": "code",
   "execution_count": 137,
   "metadata": {},
   "outputs": [
    {
     "name": "stdout",
     "output_type": "stream",
     "text": [
      "count           500.000000\n",
      "mean             12.333832\n",
      "std               4.393977\n",
      "min               4.471176\n",
      "25%               9.319931\n",
      "50%              11.554514\n",
      "75%              14.482545\n",
      "max              30.323293\n",
      "95% CI Lower      5.889275\n",
      "95% CI Upper     23.021525\n",
      "Name: 2520, dtype: float64\n"
     ]
    }
   ],
   "source": [
    "# Generate summary statistics from the 10-year Monte Carlo simulation results\n",
    "# Save the results as a variable\n",
    "summary_table_10yrs = MC_AGG_SPY_10yrs.summarize_cumulative_return()\n",
    "\n",
    "\n",
    "# Review the 10-year Monte Carlo summary statistics\n",
    "print(summary_table_10yrs)"
   ]
  },
  {
   "cell_type": "markdown",
   "metadata": {},
   "source": [
    "### Answer the following questions:"
   ]
  },
  {
   "cell_type": "markdown",
   "metadata": {},
   "source": [
    "#### Question: Using the current value of only the stock and bond portion of the member's portfolio and the summary statistics that you generated from the new Monte Carlo simulation, what are the lower and upper bounds for the expected value of the portfolio (with the new weights) with a 95% confidence interval?"
   ]
  },
  {
   "cell_type": "code",
   "execution_count": 139,
   "metadata": {},
   "outputs": [
    {
     "name": "stdout",
     "output_type": "stream",
     "text": [
      "The current balance of the stock and bond portfolio is $71,134.20\n"
     ]
    }
   ],
   "source": [
    "# Print the current balance of the stock and bond portion of the members portfolio\n",
    "total_stocks_bonds = agg_value + spy_value\n",
    "print(f\"The current balance of the stock and bond portfolio is ${total_stocks_bonds:,.2f}\")\n"
   ]
  },
  {
   "cell_type": "code",
   "execution_count": 140,
   "metadata": {},
   "outputs": [
    {
     "name": "stdout",
     "output_type": "stream",
     "text": [
      "There is a 95% chance that the stock and bond portfolio in 10 years will be worth in the range of $418,928.89 and $1,637,617.76.\n"
     ]
    }
   ],
   "source": [
    "# Use the lower and upper `95%` confidence intervals to calculate the range of the possible outcomes for the current stock/bond portfolio\n",
    "ci_lower_ten_cumulative_return = total_stocks_bonds * summary_table_10yrs[8]\n",
    "ci_upper_ten_cumulative_return = total_stocks_bonds * summary_table_10yrs[9]\n",
    "\n",
    "# Print the result of your calculations\n",
    "print(f\"There is a 95% chance that the stock and bond portfolio in 10 years will be worth in the \"\n",
    "      f\"range of ${ci_lower_ten_cumulative_return:,.2f} and ${ci_upper_ten_cumulative_return:,.2f}.\")\n"
   ]
  },
  {
   "cell_type": "markdown",
   "metadata": {},
   "source": [
    "#### Question: Will weighting the portfolio more heavily to stocks allow the credit union members to retire after only 10 years?"
   ]
  },
  {
   "cell_type": "raw",
   "metadata": {},
   "source": [
    "**After 10 years the portfolio will likely be worth between $418,928.89 and $1,637,617.76, so it depends how much the members will spend during retirement whether the value in 10 years is sufficient to retire.  The range of value in 30 years, even with a higher bond weighting, is significantly higher than the value in 10 years, so retiring later than in 10 years would allow the members to retain more portfolio value and have more funds to spend in retirement.**"
   ]
  },
  {
   "cell_type": "code",
   "execution_count": null,
   "metadata": {},
   "outputs": [],
   "source": []
  }
 ],
 "metadata": {
  "kernelspec": {
   "display_name": "dev",
   "language": "python",
   "name": "dev"
  },
  "language_info": {
   "codemirror_mode": {
    "name": "ipython",
    "version": 3
   },
   "file_extension": ".py",
   "mimetype": "text/x-python",
   "name": "python",
   "nbconvert_exporter": "python",
   "pygments_lexer": "ipython3",
   "version": "3.7.10"
  }
 },
 "nbformat": 4,
 "nbformat_minor": 4
}
